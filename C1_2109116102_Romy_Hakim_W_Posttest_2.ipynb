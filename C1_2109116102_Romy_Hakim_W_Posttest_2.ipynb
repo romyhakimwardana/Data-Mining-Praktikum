{
  "cells": [
    {
      "cell_type": "markdown",
      "metadata": {
        "id": "view-in-github",
        "colab_type": "text"
      },
      "source": [
        "<a href=\"https://colab.research.google.com/github/romyhakimwardana/Data-Mining-Praktikum/blob/main/C1_2109116102_Romy_Hakim_W_Posttest_2.ipynb\" target=\"_parent\"><img src=\"https://colab.research.google.com/assets/colab-badge.svg\" alt=\"Open In Colab\"/></a>"
      ]
    },
    {
      "cell_type": "markdown",
      "metadata": {
        "id": "-0zOQSl3wlwj"
      },
      "source": [
        "# (1) Apriori"
      ]
    },
    {
      "cell_type": "markdown",
      "metadata": {
        "id": "h-to2rkExJxa"
      },
      "source": [
        "Gunakan dataset ini : https://drive.google.com/file/d/1BqC-2d1ZYqFIFwdjdsW5bAAqNFh2AO4C/view?usp=share_link\n",
        "\n",
        "Dan buatlah daftar support dan confidence untuk 2 item set dengan menggunakan dataset tersebut (hint : buatlah tabel tabulasi terlebih dahulu untuk memudahkan)"
      ]
    },
    {
      "cell_type": "code",
      "execution_count": 103,
      "metadata": {
        "id": "9f4ztd3V7O-w"
      },
      "outputs": [],
      "source": [
        "import pandas as pd\n",
        "from mlxtend.preprocessing import TransactionEncoder\n",
        "from mlxtend.frequent_patterns import apriori, association_rules"
      ]
    },
    {
      "cell_type": "markdown",
      "source": [
        "Tabel Tabulasi"
      ],
      "metadata": {
        "id": "ySPghE6VN8K_"
      }
    },
    {
      "cell_type": "code",
      "source": [
        "# dataframe dibuat dalam list\n",
        "data = [['whole milk', 'pastry', 'salty snack'],\n",
        "    ['sausage', 'whole milk', 'semi-finished bread', 'yogurt'],\n",
        "    ['soda', 'pickled vegetables'],\n",
        "    ['canned beer', 'misc. beverages'],\n",
        "    ['sausage', 'hygiene articles'],\n",
        "    ['sausage', 'whole milk', 'rolls/buns'],\n",
        "    ['whole milk', 'soda'],\n",
        "    ['frankfurter', 'soda', 'whipped/sour cream'],\n",
        "    ['frankfurter', 'curd'],\n",
        "    ['beef', 'white bread'],\n",
        "    ['butter', 'whole milk'],\n",
        "    ['frozen vegetables', 'other vegetables'],\n",
        "    ['tropical fruit', 'sugar'],\n",
        "    ['butter milk', 'specialty chocolate'],\n",
        "    ['frozen meals', 'dental care'],\n",
        "    ['rolls/buns', 'rolls/buns'],\n",
        "    ['root vegetables', 'detergent'],\n",
        "    ['sausage', 'rolls/buns'],\n",
        "    ['dish cleaner', 'cling film/bags'],\n",
        "]\n",
        "\n",
        "df = pd.DataFrame(data)\n",
        "df = pd.get_dummies(df.stack()).groupby(level=1).sum()\n",
        "print(df)"
      ],
      "metadata": {
        "colab": {
          "base_uri": "https://localhost:8080/"
        },
        "id": "B6RRb8CbNEIf",
        "outputId": "587a270c-940a-46da-94a4-f3948b1a9eb0"
      },
      "execution_count": 276,
      "outputs": [
        {
          "output_type": "stream",
          "name": "stdout",
          "text": [
            "   beef  butter  butter milk  canned beer  cling film/bags  curd  dental care  \\\n",
            "0     1       1            1            1                0     0            0   \n",
            "1     0       0            0            0                1     1            1   \n",
            "2     0       0            0            0                0     0            0   \n",
            "3     0       0            0            0                0     0            0   \n",
            "\n",
            "   detergent  dish cleaner  frankfurter  ...  sausage  semi-finished bread  \\\n",
            "0          0             1            2  ...        4                    0   \n",
            "1          1             0            0  ...        0                    0   \n",
            "2          0             0            0  ...        0                    1   \n",
            "3          0             0            0  ...        0                    0   \n",
            "\n",
            "   soda  specialty chocolate  sugar  tropical fruit  whipped/sour cream  \\\n",
            "0     1                    0      0               1                   0   \n",
            "1     2                    1      1               0                   0   \n",
            "2     0                    0      0               0                   1   \n",
            "3     0                    0      0               0                   0   \n",
            "\n",
            "   white bread  whole milk  yogurt  \n",
            "0            0           2       0  \n",
            "1            1           3       0  \n",
            "2            0           0       0  \n",
            "3            0           0       1  \n",
            "\n",
            "[4 rows x 30 columns]\n"
          ]
        }
      ]
    },
    {
      "cell_type": "markdown",
      "source": [
        "Tabel Support and Confident"
      ],
      "metadata": {
        "id": "7ZpR1H8EN0Gk"
      }
    },
    {
      "cell_type": "code",
      "source": [
        "# Dataframe dibuat dalam list\n",
        "data = [['whole milk', 'pastry', 'salty snack'],\n",
        "    ['sausage', 'whole milk', 'semi-finished bread', 'yogurt'],\n",
        "    ['soda', 'pickled vegetables'],\n",
        "    ['canned beer', 'misc. beverages'],\n",
        "    ['sausage', 'hygiene articles'],\n",
        "    ['sausage', 'whole milk', 'rolls/buns'],\n",
        "    ['whole milk', 'soda'],\n",
        "    ['frankfurter', 'soda', 'whipped/sour cream'],\n",
        "    ['frankfurter', 'curd'],\n",
        "    ['beef', 'white bread'],\n",
        "    ['butter', 'whole milk'],\n",
        "    ['frozen vegetables', 'other vegetables'],\n",
        "    ['tropical fruit', 'sugar'],\n",
        "    ['butter milk', 'specialty chocolate'],\n",
        "    ['frozen meals', 'dental care'],\n",
        "    ['rolls/buns', 'rolls/buns'],\n",
        "    ['root vegetables', 'detergent'],\n",
        "    ['sausage', 'rolls/buns'],\n",
        "    ['dish cleaner', 'cling film/bags'],\n",
        "]\n",
        "\n",
        "# Ubah dataframe\n",
        "te = TransactionEncoder()\n",
        "te_ary = te.fit(data).transform(data)\n",
        "df = pd.DataFrame(te_ary, columns=te.columns_)\n",
        "\n",
        "# Buat apriori untuk mencari support\n",
        "frequent_itemsets = apriori(df, min_support=0.05, use_colnames=True)\n",
        "\n",
        "# Cari association rules dengan Association Rule Mining algorithm\n",
        "rules = association_rules(frequent_itemsets, metric=\"confidence\", min_threshold=0.5)\n",
        "\n",
        "# Buat tabel support untuk itemset\n",
        "df_support = frequent_itemsets\n",
        "df_support['support'] = df_support['support'].apply(lambda x: \"{:.2f}%\".format(x*100))\n",
        "df_support = df_support.rename(columns={\"itemsets\": \"itemset\"})\n",
        "df_support = df_support.set_index('itemset')\n",
        "print(df_support)\n",
        "\n",
        "# Buat tabel support dan confident\n",
        "df_rules = pd.DataFrame(rules, columns=['antecedents', 'consequents', 'support', 'confidence', 'lift'])\n",
        "\n",
        "# Buat filter antecedents dan consequents\n",
        "df_rules = df_rules[df_rules['antecedents'].apply(lambda x: len(x) == 1) & df_rules['consequents'].apply(lambda x: len(x) == 1)]\n",
        "\n",
        "# Buat kolom antecedent dan consequent \n",
        "df_rules['antecedents'] = df_rules['antecedents'].apply(lambda x: list(x)[0])\n",
        "df_rules['consequents'] = df_rules['consequents'].apply(lambda x: list(x)[0])\n",
        "\n",
        "# Buat antecedent sebagai index dan sort berdasarkab confidence\n",
        "df_rules = df_rules.set_index('antecedents')\n",
        "df_rules = df_rules.sort_values(by=['confidence'], ascending=False)\n",
        "\n",
        "# Buat tabel support dan confident yang sudah terfilter\n",
        "df_rules = df_rules[['consequents', 'support', 'confidence']]\n",
        "df_rules['support'] = df_rules['support'].apply(lambda x: \"{:.2f}%\".format(x*100))\n",
        "df_rules['confidence'] = df_rules['confidence'].apply(lambda x: \"{:.2f}%\".format(x*100))\n",
        "print(\"\\n\")\n",
        "print(\"HASIL SUPPORT DAN CONFIDENCE\")\n",
        "print(\"\\n\")\n",
        "\n",
        "print(df_rules)"
      ],
      "metadata": {
        "colab": {
          "base_uri": "https://localhost:8080/"
        },
        "id": "jd0ijKIZMcMO",
        "outputId": "77bc637f-4cdc-4e7e-88ea-f60812ec590d"
      },
      "execution_count": 277,
      "outputs": [
        {
          "output_type": "stream",
          "name": "stdout",
          "text": [
            "                                                   support\n",
            "itemset                                                   \n",
            "(beef)                                               5.26%\n",
            "(butter)                                             5.26%\n",
            "(butter milk)                                        5.26%\n",
            "(canned beer)                                        5.26%\n",
            "(cling film/bags)                                    5.26%\n",
            "...                                                    ...\n",
            "(sausage, whole milk, semi-finished bread)           5.26%\n",
            "(sausage, yogurt, semi-finished bread)               5.26%\n",
            "(sausage, yogurt, whole milk)                        5.26%\n",
            "(semi-finished bread, yogurt, whole milk)            5.26%\n",
            "(sausage, yogurt, whole milk, semi-finished bread)   5.26%\n",
            "\n",
            "[65 rows x 1 columns]\n",
            "\n",
            "\n",
            "HASIL SUPPORT DAN CONFIDENCE\n",
            "\n",
            "\n",
            "                             consequents support confidence\n",
            "antecedents                                                \n",
            "beef                         white bread   5.26%    100.00%\n",
            "semi-finished bread              sausage   5.26%    100.00%\n",
            "hygiene articles                 sausage   5.26%    100.00%\n",
            "pastry                       salty snack   5.26%    100.00%\n",
            "salty snack                       pastry   5.26%    100.00%\n",
            "pastry                        whole milk   5.26%    100.00%\n",
            "pickled vegetables                  soda   5.26%    100.00%\n",
            "salty snack                   whole milk   5.26%    100.00%\n",
            "yogurt                           sausage   5.26%    100.00%\n",
            "frozen vegetables       other vegetables   5.26%    100.00%\n",
            "semi-finished bread           whole milk   5.26%    100.00%\n",
            "semi-finished bread               yogurt   5.26%    100.00%\n",
            "yogurt               semi-finished bread   5.26%    100.00%\n",
            "whipped/sour cream                  soda   5.26%    100.00%\n",
            "sugar                     tropical fruit   5.26%    100.00%\n",
            "tropical fruit                     sugar   5.26%    100.00%\n",
            "white bread                         beef   5.26%    100.00%\n",
            "other vegetables       frozen vegetables   5.26%    100.00%\n",
            "yogurt                        whole milk   5.26%    100.00%\n",
            "canned beer              misc. beverages   5.26%    100.00%\n",
            "butter                        whole milk   5.26%    100.00%\n",
            "root vegetables                detergent   5.26%    100.00%\n",
            "detergent                root vegetables   5.26%    100.00%\n",
            "dental care                 frozen meals   5.26%    100.00%\n",
            "frozen meals                 dental care   5.26%    100.00%\n",
            "butter milk          specialty chocolate   5.26%    100.00%\n",
            "curd                         frankfurter   5.26%    100.00%\n",
            "whipped/sour cream           frankfurter   5.26%    100.00%\n",
            "specialty chocolate          butter milk   5.26%    100.00%\n",
            "dish cleaner             cling film/bags   5.26%    100.00%\n",
            "cling film/bags             dish cleaner   5.26%    100.00%\n",
            "misc. beverages              canned beer   5.26%    100.00%\n",
            "rolls/buns                       sausage  10.53%     66.67%\n",
            "frankfurter           whipped/sour cream   5.26%     50.00%\n",
            "sausage                       whole milk  10.53%     50.00%\n",
            "sausage                       rolls/buns  10.53%     50.00%\n",
            "frankfurter                         soda   5.26%     50.00%\n",
            "frankfurter                         curd   5.26%     50.00%\n"
          ]
        }
      ]
    },
    {
      "cell_type": "markdown",
      "metadata": {
        "id": "wEgfTlH7xlgG"
      },
      "source": [
        "#(2) KNN\n",
        "\n",
        "Gunakan dataset ini : https://drive.google.com/file/d/1pXAJZZXCXosf0PTJkyogopKaPFxCYl22/view?usp=share_link\n",
        "\n",
        "Kemudian buatlah tabel jarak berdasarkan data berikut ini : \n",
        "\n",
        "![Gambar](data:image/png;base64,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)\n",
        "<!-- 1412 -->"
      ]
    },
    {
      "cell_type": "code",
      "execution_count": 106,
      "metadata": {
        "id": "KQc6Pr9rAy9W"
      },
      "outputs": [],
      "source": [
        "import pandas as pd\n",
        "import math"
      ]
    },
    {
      "cell_type": "code",
      "source": [
        "# Dataset\n",
        "df = pd.read_csv(\"deteksi_uang_palsu.csv\")"
      ],
      "metadata": {
        "id": "9Kk7fh7HVYoU"
      },
      "execution_count": 107,
      "outputs": []
    },
    {
      "cell_type": "code",
      "execution_count": 108,
      "metadata": {
        "id": "09vio_0B1KQk",
        "colab": {
          "base_uri": "https://localhost:8080/"
        },
        "outputId": "b7aa7a43-abae-4fe1-b797-9d92e7fd1f72"
      },
      "outputs": [
        {
          "output_type": "stream",
          "name": "stdout",
          "text": [
            "   is_genuine  diagonal  height_left  height_right  margin_low  margin_up  \\\n",
            "0        True    172.06       104.24        103.66        4.24       3.10   \n",
            "1        True    171.66       103.68        103.41        4.35       3.33   \n",
            "2        True    172.23       104.00        103.35        4.43       2.95   \n",
            "3        True    172.07       104.21        103.82        4.29       3.35   \n",
            "4        True    171.79       104.57        104.04        4.26       3.15   \n",
            "5       False    172.00       104.23        104.52        5.76       3.37   \n",
            "6       False    171.56       104.03        103.93        5.47       3.50   \n",
            "7       False    171.90       104.33        104.40        4.70       3.31   \n",
            "8       False    171.84       104.06        104.10        4.87       3.25   \n",
            "9       False    172.11       104.14        104.15        4.84       3.28   \n",
            "\n",
            "   length       jarak  \n",
            "0  113.02  162.985541  \n",
            "1  113.74  163.637621  \n",
            "2  113.12  163.039278  \n",
            "3  113.30  163.154696  \n",
            "4  113.46  163.132317  \n",
            "5  110.94  160.664595  \n",
            "6  111.67  161.413998  \n",
            "7  112.12  162.060927  \n",
            "8  111.04  161.346813  \n",
            "9  110.98  161.291210  \n"
          ]
        }
      ],
      "source": [
        "# 1. Tambahkan kolom jarak untuk menampilkan jarak dari dataset terhadap target prediksi\n",
        "\n",
        "# Menentukan target prediksi\n",
        "target = {'height_left': 172.25,\n",
        "          'height_right': 103.94,\n",
        "          'margin_low': 103.68,\n",
        "          'margin_up': 4.14,\n",
        "          'length': 3.25}\n",
        "\n",
        "# Membuat kolom jarak\n",
        "df['jarak'] = df.apply(lambda x: math.sqrt((x['height_left'] - target['height_left'])**2 + \n",
        "                                           (x['height_right'] - target['height_right'])**2 + \n",
        "                                           (x['margin_low'] - target['margin_low'])**2 + \n",
        "                                           (x['margin_up'] - target['margin_up'])**2 + \n",
        "                                           (x['length'] - target['length'])**2), axis=1)\n",
        "\n",
        "# Menampilkan tabel jarak\n",
        "print(df)"
      ]
    },
    {
      "cell_type": "code",
      "execution_count": 109,
      "metadata": {
        "id": "DgeVwMEX2JZi",
        "colab": {
          "base_uri": "https://localhost:8080/"
        },
        "outputId": "b8d0d8ed-b042-47bf-9b0c-03a73619df33"
      },
      "outputs": [
        {
          "output_type": "stream",
          "name": "stdout",
          "text": [
            "   is_genuine  diagonal  height_left  height_right  margin_low  margin_up  \\\n",
            "0        True    172.06       104.24        103.66        4.24       3.10   \n",
            "2        True    172.23       104.00        103.35        4.43       2.95   \n",
            "3        True    172.07       104.21        103.82        4.29       3.35   \n",
            "\n",
            "   length     jarak  \n",
            "0  113.02  0.671267  \n",
            "2  113.12  0.834626  \n",
            "3  113.30  0.910934  \n",
            "\n",
            "\n",
            "Jumlah True:  3\n",
            "Jumlah False:  0\n"
          ]
        }
      ],
      "source": [
        "# 2. Urutkan data berdasarkan K jarak terdekat (Untuk K nya ambil akar 2 dari banyak data)\n",
        "\n",
        "# hitung jarak dari setiap data terhadap target prediksi\n",
        "target = [172.25, 103.94, 103.68, 4.14, 3.25, 112.48]\n",
        "jarak = []\n",
        "for i in range(len(df)):\n",
        "    d = 0\n",
        "    for j in range(1, 7):\n",
        "        d += (df.iloc[i, j] - target[j-1])**2\n",
        "    jarak.append(math.sqrt(d))\n",
        "df['jarak'] = jarak\n",
        "\n",
        "# urutkan data berdasarkan jarak terdekat\n",
        "K = int(math.sqrt(len(df)))\n",
        "df_sorted = df.sort_values(by='jarak').head(K)\n",
        "\n",
        "# tampilkan data terurut\n",
        "print(df_sorted)\n",
        "\n",
        "\n",
        "# Menghitung jumlah nilai True dan False untuk K terdekat\n",
        "num_true = len(df_sorted[df_sorted[\"is_genuine\"] == True])\n",
        "num_false = len(df_sorted[df_sorted[\"is_genuine\"] == False])\n",
        "print(\"\\n\")\n",
        "print(\"Jumlah True: \", num_true)\n",
        "print(\"Jumlah False: \", num_false)"
      ]
    },
    {
      "cell_type": "code",
      "execution_count": 110,
      "metadata": {
        "id": "JAho0GXZ2QeD",
        "colab": {
          "base_uri": "https://localhost:8080/"
        },
        "outputId": "a3fd2781-9034-4133-e00a-b8b799440f47"
      },
      "outputs": [
        {
          "output_type": "stream",
          "name": "stdout",
          "text": [
            "Hasil prediksi: True\n"
          ]
        }
      ],
      "source": [
        "# 3. Tentukan apa hasil prediksinya berdasarkan label terbanyak\n",
        "\n",
        "# mengambil data terdekat dengan target\n",
        "nearest_data = df_sorted.head(K)\n",
        "\n",
        "# menghitung jumlah data dengan label True dan False\n",
        "true_count = nearest_data['is_genuine'].sum()\n",
        "false_count = K - true_count\n",
        "\n",
        "# menentukan hasil prediksi berdasarkan label terbanyak\n",
        "if true_count > false_count:\n",
        "    prediction = True\n",
        "else:\n",
        "    prediction = False\n",
        "    \n",
        "print('Hasil prediksi:', prediction)"
      ]
    },
    {
      "cell_type": "markdown",
      "metadata": {
        "id": "F0N-LXThwiqD"
      },
      "source": [
        "# (3) Analisis"
      ]
    },
    {
      "cell_type": "markdown",
      "metadata": {
        "id": "dItRdcTguaHj"
      },
      "source": [
        "> Nama : Romy Hakim Wardana\n",
        "\n",
        "> Nim : 2109116102\n"
      ]
    },
    {
      "cell_type": "markdown",
      "metadata": {
        "id": "Vbv4o0Q2uiXZ"
      },
      "source": [
        "Penjelasan posttest : \n",
        "\n",
        "Pilihlah salah satu tema dari daftar tema ini :  \n",
        "1. Perbankan\n",
        "2. Kesehatan\n",
        "3. Ritel\n",
        "4. Pendidkan\n",
        "\n",
        "Kemudian lakukan analisis dengan menggunakan struktur CRISP-DM\n",
        "\n",
        "Dimulai dari Business Understanding Hingga Data Preparation \n",
        "<img src=\"https://th.bing.com/th/id/R.f8efea41ae3cd96d86fbc5b10f81ad77?rik=K4Dr%2biIaVGvW8g&riu=http%3a%2f%2fwww.dataprix.com%2ffiles%2fCRISPDM%2fMetodologia_CRISP_DM1_html_52cdbecf.png&ehk=6ONLJMCVxE421Sjt2JJPE6MfCzrL7LLhDZQPdkJTLcw%3d&risl=&pid=ImgRaw&r=0\"/>\n",
        "\n",
        "Tentukan judul dengan ketentuan setiap orang di kelas beda-beda judulnya dan sumber datasetnya (contoh bisa prediksi atau aturan asosiasi)\n",
        "\n",
        "Catatan : Tugas ini akan berhubungan dengan posttest terakhir (pertemuan 6)"
      ]
    },
    {
      "cell_type": "markdown",
      "metadata": {
        "id": "GRJa3Y8LD2r7"
      },
      "source": [
        "## Business Understanding"
      ]
    },
    {
      "cell_type": "markdown",
      "source": [
        "**China Scholarship Data - May 2019**"
      ],
      "metadata": {
        "id": "MvH6MtyqfDVd"
      }
    },
    {
      "cell_type": "markdown",
      "metadata": {
        "id": "nlhabPnVD60X"
      },
      "source": [
        "Tujuan dari dataset China Scholarship Data - May 2019 adalah untuk memahami profil penerima beasiswa China dan bagaimana pengalaman mereka dalam memperoleh beasiswa tersebut. Dataset ini dapat memberikan wawasan yang berguna bagi pihak yang ingin menyediakan beasiswa atau mendukung program beasiswa, termasuk lembaga pendidikan, organisasi nirlaba, atau pemerintah."
      ]
    },
    {
      "cell_type": "markdown",
      "metadata": {
        "id": "NYTtVbILDknu"
      },
      "source": [
        "## Data Understanding"
      ]
    },
    {
      "cell_type": "markdown",
      "source": [
        "### Collect Initial Data"
      ],
      "metadata": {
        "id": "dnC-G7TvV-lA"
      }
    },
    {
      "cell_type": "code",
      "execution_count": 188,
      "metadata": {
        "id": "KkZfAeYLBXN_"
      },
      "outputs": [],
      "source": [
        "import pandas as pd"
      ]
    },
    {
      "cell_type": "code",
      "execution_count": 189,
      "metadata": {
        "id": "QQSazjbRBllN"
      },
      "outputs": [],
      "source": [
        "# Dataset\n",
        "df = pd.read_csv(\"cleaned.csv\")"
      ]
    },
    {
      "cell_type": "code",
      "execution_count": 190,
      "metadata": {
        "colab": {
          "base_uri": "https://localhost:8080/",
          "height": 1000
        },
        "id": "SbaSX5PuBkKt",
        "outputId": "447c6ec3-9df1-4026-de32-004658e2c95a"
      },
      "outputs": [
        {
          "output_type": "execute_result",
          "data": {
            "text/plain": [
              "      schol_id                                         University  \\\n",
              "0            1  Shanghai University of Traditional Chinese Med...   \n",
              "1            2     Changchun University of Science and Technology   \n",
              "2            3     Changchun University of Science and Technology   \n",
              "3            4     Changchun University of Science and Technology   \n",
              "4            5                                 Qingdao University   \n",
              "...        ...                                                ...   \n",
              "3571      3601    East China University of Science and Technology   \n",
              "3572      3602    East China University of Science and Technology   \n",
              "3573      3603    East China University of Science and Technology   \n",
              "3574      3604    East China University of Science and Technology   \n",
              "3575      3605    East China University of Science and Technology   \n",
              "\n",
              "                                                  Major       Level Language  \\\n",
              "0                                   Summer School (TCM)  Non-Degree  English   \n",
              "1     Preparatory Program of Humanities Direction(Pa...  Non-Degree  Chinese   \n",
              "2     Preparatory Program of Business Direction(Path A)  Non-Degree  Chinese   \n",
              "3     Preparatory Program of Science and Engineering...  Non-Degree  Chinese   \n",
              "4                    Long-term Chinese Language Program  Non-Degree  Chinese   \n",
              "...                                                 ...         ...      ...   \n",
              "3571              Environmental Science and Engineering         Phd  English   \n",
              "3572    Power Engineering and Engineering Thermophysics         Phd  English   \n",
              "3573                                Thermal Engineering         Phd  English   \n",
              "3574           Synthesis of Fine Chemical and Molecular         Phd  English   \n",
              "3575                                   Sociology of Law         Phd  English   \n",
              "\n",
              "      Tuition Covered  Accomodation covered?  Living Expense Covered?  \\\n",
              "0              7500.0                      0                        0   \n",
              "1             10000.0                      0                        0   \n",
              "2             10000.0                      0                        0   \n",
              "3             10000.0                      0                        0   \n",
              "4              7000.0                      1                        1   \n",
              "...               ...                    ...                      ...   \n",
              "3571          38950.0                      1                        1   \n",
              "3572          38950.0                      1                        1   \n",
              "3573          38950.0                      1                        1   \n",
              "3574          38950.0                      1                        1   \n",
              "3575          38950.0                      1                        1   \n",
              "\n",
              "      Tuition fees to pay  Original Tuition fee Start_Month  Start_Year  \\\n",
              "0                       0                7500.0         Jun        2020   \n",
              "1                   10000               20000.0         Sep        2019   \n",
              "2                   10000               20000.0         Sep        2019   \n",
              "3                   10000               20000.0         Sep        2019   \n",
              "4                       0                7000.0         Sep        2019   \n",
              "...                   ...                   ...         ...         ...   \n",
              "3571                    0               38950.0         Sep        2019   \n",
              "3572                    0               38950.0         Sep        2019   \n",
              "3573                    0               38950.0         Sep        2019   \n",
              "3574                    0               38950.0         Sep        2019   \n",
              "3575                    0               38950.0         Sep        2019   \n",
              "\n",
              "      Accomodation_To_Pay Accomodation_duration  Expense_To_Pay  \\\n",
              "0                  9750.0                 MONTH          1000.0   \n",
              "1                  1500.0                 MONTH          1500.0   \n",
              "2                  1500.0                 MONTH          1500.0   \n",
              "3                  1500.0                 MONTH          1500.0   \n",
              "4                     0.0                  YEAR             0.0   \n",
              "...                   ...                   ...             ...   \n",
              "3571                  0.0                  YEAR             0.0   \n",
              "3572                  0.0                  YEAR             0.0   \n",
              "3573                  0.0                  YEAR             0.0   \n",
              "3574                  0.0                  YEAR             0.0   \n",
              "3575                  0.0                  YEAR             0.0   \n",
              "\n",
              "     Expense_duration  \n",
              "0               MONTH  \n",
              "1               MONTH  \n",
              "2               MONTH  \n",
              "3               MONTH  \n",
              "4               MONTH  \n",
              "...               ...  \n",
              "3571            MONTH  \n",
              "3572            MONTH  \n",
              "3573            MONTH  \n",
              "3574            MONTH  \n",
              "3575            MONTH  \n",
              "\n",
              "[3576 rows x 16 columns]"
            ],
            "text/html": [
              "\n",
              "  <div id=\"df-e950f1df-77a0-4d7f-82e8-63938306cea2\">\n",
              "    <div class=\"colab-df-container\">\n",
              "      <div>\n",
              "<style scoped>\n",
              "    .dataframe tbody tr th:only-of-type {\n",
              "        vertical-align: middle;\n",
              "    }\n",
              "\n",
              "    .dataframe tbody tr th {\n",
              "        vertical-align: top;\n",
              "    }\n",
              "\n",
              "    .dataframe thead th {\n",
              "        text-align: right;\n",
              "    }\n",
              "</style>\n",
              "<table border=\"1\" class=\"dataframe\">\n",
              "  <thead>\n",
              "    <tr style=\"text-align: right;\">\n",
              "      <th></th>\n",
              "      <th>schol_id</th>\n",
              "      <th>University</th>\n",
              "      <th>Major</th>\n",
              "      <th>Level</th>\n",
              "      <th>Language</th>\n",
              "      <th>Tuition Covered</th>\n",
              "      <th>Accomodation covered?</th>\n",
              "      <th>Living Expense Covered?</th>\n",
              "      <th>Tuition fees to pay</th>\n",
              "      <th>Original Tuition fee</th>\n",
              "      <th>Start_Month</th>\n",
              "      <th>Start_Year</th>\n",
              "      <th>Accomodation_To_Pay</th>\n",
              "      <th>Accomodation_duration</th>\n",
              "      <th>Expense_To_Pay</th>\n",
              "      <th>Expense_duration</th>\n",
              "    </tr>\n",
              "  </thead>\n",
              "  <tbody>\n",
              "    <tr>\n",
              "      <th>0</th>\n",
              "      <td>1</td>\n",
              "      <td>Shanghai University of Traditional Chinese Med...</td>\n",
              "      <td>Summer School (TCM)</td>\n",
              "      <td>Non-Degree</td>\n",
              "      <td>English</td>\n",
              "      <td>7500.0</td>\n",
              "      <td>0</td>\n",
              "      <td>0</td>\n",
              "      <td>0</td>\n",
              "      <td>7500.0</td>\n",
              "      <td>Jun</td>\n",
              "      <td>2020</td>\n",
              "      <td>9750.0</td>\n",
              "      <td>MONTH</td>\n",
              "      <td>1000.0</td>\n",
              "      <td>MONTH</td>\n",
              "    </tr>\n",
              "    <tr>\n",
              "      <th>1</th>\n",
              "      <td>2</td>\n",
              "      <td>Changchun University of Science and Technology</td>\n",
              "      <td>Preparatory Program of Humanities Direction(Pa...</td>\n",
              "      <td>Non-Degree</td>\n",
              "      <td>Chinese</td>\n",
              "      <td>10000.0</td>\n",
              "      <td>0</td>\n",
              "      <td>0</td>\n",
              "      <td>10000</td>\n",
              "      <td>20000.0</td>\n",
              "      <td>Sep</td>\n",
              "      <td>2019</td>\n",
              "      <td>1500.0</td>\n",
              "      <td>MONTH</td>\n",
              "      <td>1500.0</td>\n",
              "      <td>MONTH</td>\n",
              "    </tr>\n",
              "    <tr>\n",
              "      <th>2</th>\n",
              "      <td>3</td>\n",
              "      <td>Changchun University of Science and Technology</td>\n",
              "      <td>Preparatory Program of Business Direction(Path A)</td>\n",
              "      <td>Non-Degree</td>\n",
              "      <td>Chinese</td>\n",
              "      <td>10000.0</td>\n",
              "      <td>0</td>\n",
              "      <td>0</td>\n",
              "      <td>10000</td>\n",
              "      <td>20000.0</td>\n",
              "      <td>Sep</td>\n",
              "      <td>2019</td>\n",
              "      <td>1500.0</td>\n",
              "      <td>MONTH</td>\n",
              "      <td>1500.0</td>\n",
              "      <td>MONTH</td>\n",
              "    </tr>\n",
              "    <tr>\n",
              "      <th>3</th>\n",
              "      <td>4</td>\n",
              "      <td>Changchun University of Science and Technology</td>\n",
              "      <td>Preparatory Program of Science and Engineering...</td>\n",
              "      <td>Non-Degree</td>\n",
              "      <td>Chinese</td>\n",
              "      <td>10000.0</td>\n",
              "      <td>0</td>\n",
              "      <td>0</td>\n",
              "      <td>10000</td>\n",
              "      <td>20000.0</td>\n",
              "      <td>Sep</td>\n",
              "      <td>2019</td>\n",
              "      <td>1500.0</td>\n",
              "      <td>MONTH</td>\n",
              "      <td>1500.0</td>\n",
              "      <td>MONTH</td>\n",
              "    </tr>\n",
              "    <tr>\n",
              "      <th>4</th>\n",
              "      <td>5</td>\n",
              "      <td>Qingdao University</td>\n",
              "      <td>Long-term Chinese Language Program</td>\n",
              "      <td>Non-Degree</td>\n",
              "      <td>Chinese</td>\n",
              "      <td>7000.0</td>\n",
              "      <td>1</td>\n",
              "      <td>1</td>\n",
              "      <td>0</td>\n",
              "      <td>7000.0</td>\n",
              "      <td>Sep</td>\n",
              "      <td>2019</td>\n",
              "      <td>0.0</td>\n",
              "      <td>YEAR</td>\n",
              "      <td>0.0</td>\n",
              "      <td>MONTH</td>\n",
              "    </tr>\n",
              "    <tr>\n",
              "      <th>...</th>\n",
              "      <td>...</td>\n",
              "      <td>...</td>\n",
              "      <td>...</td>\n",
              "      <td>...</td>\n",
              "      <td>...</td>\n",
              "      <td>...</td>\n",
              "      <td>...</td>\n",
              "      <td>...</td>\n",
              "      <td>...</td>\n",
              "      <td>...</td>\n",
              "      <td>...</td>\n",
              "      <td>...</td>\n",
              "      <td>...</td>\n",
              "      <td>...</td>\n",
              "      <td>...</td>\n",
              "      <td>...</td>\n",
              "    </tr>\n",
              "    <tr>\n",
              "      <th>3571</th>\n",
              "      <td>3601</td>\n",
              "      <td>East China University of Science and Technology</td>\n",
              "      <td>Environmental Science and Engineering</td>\n",
              "      <td>Phd</td>\n",
              "      <td>English</td>\n",
              "      <td>38950.0</td>\n",
              "      <td>1</td>\n",
              "      <td>1</td>\n",
              "      <td>0</td>\n",
              "      <td>38950.0</td>\n",
              "      <td>Sep</td>\n",
              "      <td>2019</td>\n",
              "      <td>0.0</td>\n",
              "      <td>YEAR</td>\n",
              "      <td>0.0</td>\n",
              "      <td>MONTH</td>\n",
              "    </tr>\n",
              "    <tr>\n",
              "      <th>3572</th>\n",
              "      <td>3602</td>\n",
              "      <td>East China University of Science and Technology</td>\n",
              "      <td>Power Engineering and Engineering Thermophysics</td>\n",
              "      <td>Phd</td>\n",
              "      <td>English</td>\n",
              "      <td>38950.0</td>\n",
              "      <td>1</td>\n",
              "      <td>1</td>\n",
              "      <td>0</td>\n",
              "      <td>38950.0</td>\n",
              "      <td>Sep</td>\n",
              "      <td>2019</td>\n",
              "      <td>0.0</td>\n",
              "      <td>YEAR</td>\n",
              "      <td>0.0</td>\n",
              "      <td>MONTH</td>\n",
              "    </tr>\n",
              "    <tr>\n",
              "      <th>3573</th>\n",
              "      <td>3603</td>\n",
              "      <td>East China University of Science and Technology</td>\n",
              "      <td>Thermal Engineering</td>\n",
              "      <td>Phd</td>\n",
              "      <td>English</td>\n",
              "      <td>38950.0</td>\n",
              "      <td>1</td>\n",
              "      <td>1</td>\n",
              "      <td>0</td>\n",
              "      <td>38950.0</td>\n",
              "      <td>Sep</td>\n",
              "      <td>2019</td>\n",
              "      <td>0.0</td>\n",
              "      <td>YEAR</td>\n",
              "      <td>0.0</td>\n",
              "      <td>MONTH</td>\n",
              "    </tr>\n",
              "    <tr>\n",
              "      <th>3574</th>\n",
              "      <td>3604</td>\n",
              "      <td>East China University of Science and Technology</td>\n",
              "      <td>Synthesis of Fine Chemical and Molecular</td>\n",
              "      <td>Phd</td>\n",
              "      <td>English</td>\n",
              "      <td>38950.0</td>\n",
              "      <td>1</td>\n",
              "      <td>1</td>\n",
              "      <td>0</td>\n",
              "      <td>38950.0</td>\n",
              "      <td>Sep</td>\n",
              "      <td>2019</td>\n",
              "      <td>0.0</td>\n",
              "      <td>YEAR</td>\n",
              "      <td>0.0</td>\n",
              "      <td>MONTH</td>\n",
              "    </tr>\n",
              "    <tr>\n",
              "      <th>3575</th>\n",
              "      <td>3605</td>\n",
              "      <td>East China University of Science and Technology</td>\n",
              "      <td>Sociology of Law</td>\n",
              "      <td>Phd</td>\n",
              "      <td>English</td>\n",
              "      <td>38950.0</td>\n",
              "      <td>1</td>\n",
              "      <td>1</td>\n",
              "      <td>0</td>\n",
              "      <td>38950.0</td>\n",
              "      <td>Sep</td>\n",
              "      <td>2019</td>\n",
              "      <td>0.0</td>\n",
              "      <td>YEAR</td>\n",
              "      <td>0.0</td>\n",
              "      <td>MONTH</td>\n",
              "    </tr>\n",
              "  </tbody>\n",
              "</table>\n",
              "<p>3576 rows × 16 columns</p>\n",
              "</div>\n",
              "      <button class=\"colab-df-convert\" onclick=\"convertToInteractive('df-e950f1df-77a0-4d7f-82e8-63938306cea2')\"\n",
              "              title=\"Convert this dataframe to an interactive table.\"\n",
              "              style=\"display:none;\">\n",
              "        \n",
              "  <svg xmlns=\"http://www.w3.org/2000/svg\" height=\"24px\"viewBox=\"0 0 24 24\"\n",
              "       width=\"24px\">\n",
              "    <path d=\"M0 0h24v24H0V0z\" fill=\"none\"/>\n",
              "    <path d=\"M18.56 5.44l.94 2.06.94-2.06 2.06-.94-2.06-.94-.94-2.06-.94 2.06-2.06.94zm-11 1L8.5 8.5l.94-2.06 2.06-.94-2.06-.94L8.5 2.5l-.94 2.06-2.06.94zm10 10l.94 2.06.94-2.06 2.06-.94-2.06-.94-.94-2.06-.94 2.06-2.06.94z\"/><path d=\"M17.41 7.96l-1.37-1.37c-.4-.4-.92-.59-1.43-.59-.52 0-1.04.2-1.43.59L10.3 9.45l-7.72 7.72c-.78.78-.78 2.05 0 2.83L4 21.41c.39.39.9.59 1.41.59.51 0 1.02-.2 1.41-.59l7.78-7.78 2.81-2.81c.8-.78.8-2.07 0-2.86zM5.41 20L4 18.59l7.72-7.72 1.47 1.35L5.41 20z\"/>\n",
              "  </svg>\n",
              "      </button>\n",
              "      \n",
              "  <style>\n",
              "    .colab-df-container {\n",
              "      display:flex;\n",
              "      flex-wrap:wrap;\n",
              "      gap: 12px;\n",
              "    }\n",
              "\n",
              "    .colab-df-convert {\n",
              "      background-color: #E8F0FE;\n",
              "      border: none;\n",
              "      border-radius: 50%;\n",
              "      cursor: pointer;\n",
              "      display: none;\n",
              "      fill: #1967D2;\n",
              "      height: 32px;\n",
              "      padding: 0 0 0 0;\n",
              "      width: 32px;\n",
              "    }\n",
              "\n",
              "    .colab-df-convert:hover {\n",
              "      background-color: #E2EBFA;\n",
              "      box-shadow: 0px 1px 2px rgba(60, 64, 67, 0.3), 0px 1px 3px 1px rgba(60, 64, 67, 0.15);\n",
              "      fill: #174EA6;\n",
              "    }\n",
              "\n",
              "    [theme=dark] .colab-df-convert {\n",
              "      background-color: #3B4455;\n",
              "      fill: #D2E3FC;\n",
              "    }\n",
              "\n",
              "    [theme=dark] .colab-df-convert:hover {\n",
              "      background-color: #434B5C;\n",
              "      box-shadow: 0px 1px 3px 1px rgba(0, 0, 0, 0.15);\n",
              "      filter: drop-shadow(0px 1px 2px rgba(0, 0, 0, 0.3));\n",
              "      fill: #FFFFFF;\n",
              "    }\n",
              "  </style>\n",
              "\n",
              "      <script>\n",
              "        const buttonEl =\n",
              "          document.querySelector('#df-e950f1df-77a0-4d7f-82e8-63938306cea2 button.colab-df-convert');\n",
              "        buttonEl.style.display =\n",
              "          google.colab.kernel.accessAllowed ? 'block' : 'none';\n",
              "\n",
              "        async function convertToInteractive(key) {\n",
              "          const element = document.querySelector('#df-e950f1df-77a0-4d7f-82e8-63938306cea2');\n",
              "          const dataTable =\n",
              "            await google.colab.kernel.invokeFunction('convertToInteractive',\n",
              "                                                     [key], {});\n",
              "          if (!dataTable) return;\n",
              "\n",
              "          const docLinkHtml = 'Like what you see? Visit the ' +\n",
              "            '<a target=\"_blank\" href=https://colab.research.google.com/notebooks/data_table.ipynb>data table notebook</a>'\n",
              "            + ' to learn more about interactive tables.';\n",
              "          element.innerHTML = '';\n",
              "          dataTable['output_type'] = 'display_data';\n",
              "          await google.colab.output.renderOutput(dataTable, element);\n",
              "          const docLink = document.createElement('div');\n",
              "          docLink.innerHTML = docLinkHtml;\n",
              "          element.appendChild(docLink);\n",
              "        }\n",
              "      </script>\n",
              "    </div>\n",
              "  </div>\n",
              "  "
            ]
          },
          "metadata": {},
          "execution_count": 190
        }
      ],
      "source": [
        "df"
      ]
    },
    {
      "cell_type": "code",
      "execution_count": 191,
      "metadata": {
        "colab": {
          "base_uri": "https://localhost:8080/",
          "height": 651
        },
        "id": "rEmziQsWDj5Q",
        "outputId": "5110cfdb-1fb0-4938-e701-9bba95304e14"
      },
      "outputs": [
        {
          "output_type": "execute_result",
          "data": {
            "text/plain": [
              "   schol_id                                         University  \\\n",
              "0         1  Shanghai University of Traditional Chinese Med...   \n",
              "1         2     Changchun University of Science and Technology   \n",
              "2         3     Changchun University of Science and Technology   \n",
              "3         4     Changchun University of Science and Technology   \n",
              "4         5                                 Qingdao University   \n",
              "\n",
              "                                               Major       Level Language  \\\n",
              "0                                Summer School (TCM)  Non-Degree  English   \n",
              "1  Preparatory Program of Humanities Direction(Pa...  Non-Degree  Chinese   \n",
              "2  Preparatory Program of Business Direction(Path A)  Non-Degree  Chinese   \n",
              "3  Preparatory Program of Science and Engineering...  Non-Degree  Chinese   \n",
              "4                 Long-term Chinese Language Program  Non-Degree  Chinese   \n",
              "\n",
              "   Tuition Covered  Accomodation covered?  Living Expense Covered?  \\\n",
              "0           7500.0                      0                        0   \n",
              "1          10000.0                      0                        0   \n",
              "2          10000.0                      0                        0   \n",
              "3          10000.0                      0                        0   \n",
              "4           7000.0                      1                        1   \n",
              "\n",
              "   Tuition fees to pay  Original Tuition fee Start_Month  Start_Year  \\\n",
              "0                    0                7500.0         Jun        2020   \n",
              "1                10000               20000.0         Sep        2019   \n",
              "2                10000               20000.0         Sep        2019   \n",
              "3                10000               20000.0         Sep        2019   \n",
              "4                    0                7000.0         Sep        2019   \n",
              "\n",
              "   Accomodation_To_Pay Accomodation_duration  Expense_To_Pay Expense_duration  \n",
              "0               9750.0                 MONTH          1000.0            MONTH  \n",
              "1               1500.0                 MONTH          1500.0            MONTH  \n",
              "2               1500.0                 MONTH          1500.0            MONTH  \n",
              "3               1500.0                 MONTH          1500.0            MONTH  \n",
              "4                  0.0                  YEAR             0.0            MONTH  "
            ],
            "text/html": [
              "\n",
              "  <div id=\"df-a81f1205-d20b-47c5-95f6-4248388a2567\">\n",
              "    <div class=\"colab-df-container\">\n",
              "      <div>\n",
              "<style scoped>\n",
              "    .dataframe tbody tr th:only-of-type {\n",
              "        vertical-align: middle;\n",
              "    }\n",
              "\n",
              "    .dataframe tbody tr th {\n",
              "        vertical-align: top;\n",
              "    }\n",
              "\n",
              "    .dataframe thead th {\n",
              "        text-align: right;\n",
              "    }\n",
              "</style>\n",
              "<table border=\"1\" class=\"dataframe\">\n",
              "  <thead>\n",
              "    <tr style=\"text-align: right;\">\n",
              "      <th></th>\n",
              "      <th>schol_id</th>\n",
              "      <th>University</th>\n",
              "      <th>Major</th>\n",
              "      <th>Level</th>\n",
              "      <th>Language</th>\n",
              "      <th>Tuition Covered</th>\n",
              "      <th>Accomodation covered?</th>\n",
              "      <th>Living Expense Covered?</th>\n",
              "      <th>Tuition fees to pay</th>\n",
              "      <th>Original Tuition fee</th>\n",
              "      <th>Start_Month</th>\n",
              "      <th>Start_Year</th>\n",
              "      <th>Accomodation_To_Pay</th>\n",
              "      <th>Accomodation_duration</th>\n",
              "      <th>Expense_To_Pay</th>\n",
              "      <th>Expense_duration</th>\n",
              "    </tr>\n",
              "  </thead>\n",
              "  <tbody>\n",
              "    <tr>\n",
              "      <th>0</th>\n",
              "      <td>1</td>\n",
              "      <td>Shanghai University of Traditional Chinese Med...</td>\n",
              "      <td>Summer School (TCM)</td>\n",
              "      <td>Non-Degree</td>\n",
              "      <td>English</td>\n",
              "      <td>7500.0</td>\n",
              "      <td>0</td>\n",
              "      <td>0</td>\n",
              "      <td>0</td>\n",
              "      <td>7500.0</td>\n",
              "      <td>Jun</td>\n",
              "      <td>2020</td>\n",
              "      <td>9750.0</td>\n",
              "      <td>MONTH</td>\n",
              "      <td>1000.0</td>\n",
              "      <td>MONTH</td>\n",
              "    </tr>\n",
              "    <tr>\n",
              "      <th>1</th>\n",
              "      <td>2</td>\n",
              "      <td>Changchun University of Science and Technology</td>\n",
              "      <td>Preparatory Program of Humanities Direction(Pa...</td>\n",
              "      <td>Non-Degree</td>\n",
              "      <td>Chinese</td>\n",
              "      <td>10000.0</td>\n",
              "      <td>0</td>\n",
              "      <td>0</td>\n",
              "      <td>10000</td>\n",
              "      <td>20000.0</td>\n",
              "      <td>Sep</td>\n",
              "      <td>2019</td>\n",
              "      <td>1500.0</td>\n",
              "      <td>MONTH</td>\n",
              "      <td>1500.0</td>\n",
              "      <td>MONTH</td>\n",
              "    </tr>\n",
              "    <tr>\n",
              "      <th>2</th>\n",
              "      <td>3</td>\n",
              "      <td>Changchun University of Science and Technology</td>\n",
              "      <td>Preparatory Program of Business Direction(Path A)</td>\n",
              "      <td>Non-Degree</td>\n",
              "      <td>Chinese</td>\n",
              "      <td>10000.0</td>\n",
              "      <td>0</td>\n",
              "      <td>0</td>\n",
              "      <td>10000</td>\n",
              "      <td>20000.0</td>\n",
              "      <td>Sep</td>\n",
              "      <td>2019</td>\n",
              "      <td>1500.0</td>\n",
              "      <td>MONTH</td>\n",
              "      <td>1500.0</td>\n",
              "      <td>MONTH</td>\n",
              "    </tr>\n",
              "    <tr>\n",
              "      <th>3</th>\n",
              "      <td>4</td>\n",
              "      <td>Changchun University of Science and Technology</td>\n",
              "      <td>Preparatory Program of Science and Engineering...</td>\n",
              "      <td>Non-Degree</td>\n",
              "      <td>Chinese</td>\n",
              "      <td>10000.0</td>\n",
              "      <td>0</td>\n",
              "      <td>0</td>\n",
              "      <td>10000</td>\n",
              "      <td>20000.0</td>\n",
              "      <td>Sep</td>\n",
              "      <td>2019</td>\n",
              "      <td>1500.0</td>\n",
              "      <td>MONTH</td>\n",
              "      <td>1500.0</td>\n",
              "      <td>MONTH</td>\n",
              "    </tr>\n",
              "    <tr>\n",
              "      <th>4</th>\n",
              "      <td>5</td>\n",
              "      <td>Qingdao University</td>\n",
              "      <td>Long-term Chinese Language Program</td>\n",
              "      <td>Non-Degree</td>\n",
              "      <td>Chinese</td>\n",
              "      <td>7000.0</td>\n",
              "      <td>1</td>\n",
              "      <td>1</td>\n",
              "      <td>0</td>\n",
              "      <td>7000.0</td>\n",
              "      <td>Sep</td>\n",
              "      <td>2019</td>\n",
              "      <td>0.0</td>\n",
              "      <td>YEAR</td>\n",
              "      <td>0.0</td>\n",
              "      <td>MONTH</td>\n",
              "    </tr>\n",
              "  </tbody>\n",
              "</table>\n",
              "</div>\n",
              "      <button class=\"colab-df-convert\" onclick=\"convertToInteractive('df-a81f1205-d20b-47c5-95f6-4248388a2567')\"\n",
              "              title=\"Convert this dataframe to an interactive table.\"\n",
              "              style=\"display:none;\">\n",
              "        \n",
              "  <svg xmlns=\"http://www.w3.org/2000/svg\" height=\"24px\"viewBox=\"0 0 24 24\"\n",
              "       width=\"24px\">\n",
              "    <path d=\"M0 0h24v24H0V0z\" fill=\"none\"/>\n",
              "    <path d=\"M18.56 5.44l.94 2.06.94-2.06 2.06-.94-2.06-.94-.94-2.06-.94 2.06-2.06.94zm-11 1L8.5 8.5l.94-2.06 2.06-.94-2.06-.94L8.5 2.5l-.94 2.06-2.06.94zm10 10l.94 2.06.94-2.06 2.06-.94-2.06-.94-.94-2.06-.94 2.06-2.06.94z\"/><path d=\"M17.41 7.96l-1.37-1.37c-.4-.4-.92-.59-1.43-.59-.52 0-1.04.2-1.43.59L10.3 9.45l-7.72 7.72c-.78.78-.78 2.05 0 2.83L4 21.41c.39.39.9.59 1.41.59.51 0 1.02-.2 1.41-.59l7.78-7.78 2.81-2.81c.8-.78.8-2.07 0-2.86zM5.41 20L4 18.59l7.72-7.72 1.47 1.35L5.41 20z\"/>\n",
              "  </svg>\n",
              "      </button>\n",
              "      \n",
              "  <style>\n",
              "    .colab-df-container {\n",
              "      display:flex;\n",
              "      flex-wrap:wrap;\n",
              "      gap: 12px;\n",
              "    }\n",
              "\n",
              "    .colab-df-convert {\n",
              "      background-color: #E8F0FE;\n",
              "      border: none;\n",
              "      border-radius: 50%;\n",
              "      cursor: pointer;\n",
              "      display: none;\n",
              "      fill: #1967D2;\n",
              "      height: 32px;\n",
              "      padding: 0 0 0 0;\n",
              "      width: 32px;\n",
              "    }\n",
              "\n",
              "    .colab-df-convert:hover {\n",
              "      background-color: #E2EBFA;\n",
              "      box-shadow: 0px 1px 2px rgba(60, 64, 67, 0.3), 0px 1px 3px 1px rgba(60, 64, 67, 0.15);\n",
              "      fill: #174EA6;\n",
              "    }\n",
              "\n",
              "    [theme=dark] .colab-df-convert {\n",
              "      background-color: #3B4455;\n",
              "      fill: #D2E3FC;\n",
              "    }\n",
              "\n",
              "    [theme=dark] .colab-df-convert:hover {\n",
              "      background-color: #434B5C;\n",
              "      box-shadow: 0px 1px 3px 1px rgba(0, 0, 0, 0.15);\n",
              "      filter: drop-shadow(0px 1px 2px rgba(0, 0, 0, 0.3));\n",
              "      fill: #FFFFFF;\n",
              "    }\n",
              "  </style>\n",
              "\n",
              "      <script>\n",
              "        const buttonEl =\n",
              "          document.querySelector('#df-a81f1205-d20b-47c5-95f6-4248388a2567 button.colab-df-convert');\n",
              "        buttonEl.style.display =\n",
              "          google.colab.kernel.accessAllowed ? 'block' : 'none';\n",
              "\n",
              "        async function convertToInteractive(key) {\n",
              "          const element = document.querySelector('#df-a81f1205-d20b-47c5-95f6-4248388a2567');\n",
              "          const dataTable =\n",
              "            await google.colab.kernel.invokeFunction('convertToInteractive',\n",
              "                                                     [key], {});\n",
              "          if (!dataTable) return;\n",
              "\n",
              "          const docLinkHtml = 'Like what you see? Visit the ' +\n",
              "            '<a target=\"_blank\" href=https://colab.research.google.com/notebooks/data_table.ipynb>data table notebook</a>'\n",
              "            + ' to learn more about interactive tables.';\n",
              "          element.innerHTML = '';\n",
              "          dataTable['output_type'] = 'display_data';\n",
              "          await google.colab.output.renderOutput(dataTable, element);\n",
              "          const docLink = document.createElement('div');\n",
              "          docLink.innerHTML = docLinkHtml;\n",
              "          element.appendChild(docLink);\n",
              "        }\n",
              "      </script>\n",
              "    </div>\n",
              "  </div>\n",
              "  "
            ]
          },
          "metadata": {},
          "execution_count": 191
        }
      ],
      "source": [
        "df.head()"
      ]
    },
    {
      "cell_type": "code",
      "execution_count": 192,
      "metadata": {
        "colab": {
          "base_uri": "https://localhost:8080/",
          "height": 651
        },
        "id": "q8YVdQZPHlDF",
        "outputId": "f8bd38ca-4caa-4b6f-b5de-427dee89081e"
      },
      "outputs": [
        {
          "output_type": "execute_result",
          "data": {
            "text/plain": [
              "      schol_id                                       University  \\\n",
              "3571      3601  East China University of Science and Technology   \n",
              "3572      3602  East China University of Science and Technology   \n",
              "3573      3603  East China University of Science and Technology   \n",
              "3574      3604  East China University of Science and Technology   \n",
              "3575      3605  East China University of Science and Technology   \n",
              "\n",
              "                                                Major Level Language  \\\n",
              "3571            Environmental Science and Engineering   Phd  English   \n",
              "3572  Power Engineering and Engineering Thermophysics   Phd  English   \n",
              "3573                              Thermal Engineering   Phd  English   \n",
              "3574         Synthesis of Fine Chemical and Molecular   Phd  English   \n",
              "3575                                 Sociology of Law   Phd  English   \n",
              "\n",
              "      Tuition Covered  Accomodation covered?  Living Expense Covered?  \\\n",
              "3571          38950.0                      1                        1   \n",
              "3572          38950.0                      1                        1   \n",
              "3573          38950.0                      1                        1   \n",
              "3574          38950.0                      1                        1   \n",
              "3575          38950.0                      1                        1   \n",
              "\n",
              "      Tuition fees to pay  Original Tuition fee Start_Month  Start_Year  \\\n",
              "3571                    0               38950.0         Sep        2019   \n",
              "3572                    0               38950.0         Sep        2019   \n",
              "3573                    0               38950.0         Sep        2019   \n",
              "3574                    0               38950.0         Sep        2019   \n",
              "3575                    0               38950.0         Sep        2019   \n",
              "\n",
              "      Accomodation_To_Pay Accomodation_duration  Expense_To_Pay  \\\n",
              "3571                  0.0                  YEAR             0.0   \n",
              "3572                  0.0                  YEAR             0.0   \n",
              "3573                  0.0                  YEAR             0.0   \n",
              "3574                  0.0                  YEAR             0.0   \n",
              "3575                  0.0                  YEAR             0.0   \n",
              "\n",
              "     Expense_duration  \n",
              "3571            MONTH  \n",
              "3572            MONTH  \n",
              "3573            MONTH  \n",
              "3574            MONTH  \n",
              "3575            MONTH  "
            ],
            "text/html": [
              "\n",
              "  <div id=\"df-c3e4a551-bbdd-4e37-8518-790ae9227530\">\n",
              "    <div class=\"colab-df-container\">\n",
              "      <div>\n",
              "<style scoped>\n",
              "    .dataframe tbody tr th:only-of-type {\n",
              "        vertical-align: middle;\n",
              "    }\n",
              "\n",
              "    .dataframe tbody tr th {\n",
              "        vertical-align: top;\n",
              "    }\n",
              "\n",
              "    .dataframe thead th {\n",
              "        text-align: right;\n",
              "    }\n",
              "</style>\n",
              "<table border=\"1\" class=\"dataframe\">\n",
              "  <thead>\n",
              "    <tr style=\"text-align: right;\">\n",
              "      <th></th>\n",
              "      <th>schol_id</th>\n",
              "      <th>University</th>\n",
              "      <th>Major</th>\n",
              "      <th>Level</th>\n",
              "      <th>Language</th>\n",
              "      <th>Tuition Covered</th>\n",
              "      <th>Accomodation covered?</th>\n",
              "      <th>Living Expense Covered?</th>\n",
              "      <th>Tuition fees to pay</th>\n",
              "      <th>Original Tuition fee</th>\n",
              "      <th>Start_Month</th>\n",
              "      <th>Start_Year</th>\n",
              "      <th>Accomodation_To_Pay</th>\n",
              "      <th>Accomodation_duration</th>\n",
              "      <th>Expense_To_Pay</th>\n",
              "      <th>Expense_duration</th>\n",
              "    </tr>\n",
              "  </thead>\n",
              "  <tbody>\n",
              "    <tr>\n",
              "      <th>3571</th>\n",
              "      <td>3601</td>\n",
              "      <td>East China University of Science and Technology</td>\n",
              "      <td>Environmental Science and Engineering</td>\n",
              "      <td>Phd</td>\n",
              "      <td>English</td>\n",
              "      <td>38950.0</td>\n",
              "      <td>1</td>\n",
              "      <td>1</td>\n",
              "      <td>0</td>\n",
              "      <td>38950.0</td>\n",
              "      <td>Sep</td>\n",
              "      <td>2019</td>\n",
              "      <td>0.0</td>\n",
              "      <td>YEAR</td>\n",
              "      <td>0.0</td>\n",
              "      <td>MONTH</td>\n",
              "    </tr>\n",
              "    <tr>\n",
              "      <th>3572</th>\n",
              "      <td>3602</td>\n",
              "      <td>East China University of Science and Technology</td>\n",
              "      <td>Power Engineering and Engineering Thermophysics</td>\n",
              "      <td>Phd</td>\n",
              "      <td>English</td>\n",
              "      <td>38950.0</td>\n",
              "      <td>1</td>\n",
              "      <td>1</td>\n",
              "      <td>0</td>\n",
              "      <td>38950.0</td>\n",
              "      <td>Sep</td>\n",
              "      <td>2019</td>\n",
              "      <td>0.0</td>\n",
              "      <td>YEAR</td>\n",
              "      <td>0.0</td>\n",
              "      <td>MONTH</td>\n",
              "    </tr>\n",
              "    <tr>\n",
              "      <th>3573</th>\n",
              "      <td>3603</td>\n",
              "      <td>East China University of Science and Technology</td>\n",
              "      <td>Thermal Engineering</td>\n",
              "      <td>Phd</td>\n",
              "      <td>English</td>\n",
              "      <td>38950.0</td>\n",
              "      <td>1</td>\n",
              "      <td>1</td>\n",
              "      <td>0</td>\n",
              "      <td>38950.0</td>\n",
              "      <td>Sep</td>\n",
              "      <td>2019</td>\n",
              "      <td>0.0</td>\n",
              "      <td>YEAR</td>\n",
              "      <td>0.0</td>\n",
              "      <td>MONTH</td>\n",
              "    </tr>\n",
              "    <tr>\n",
              "      <th>3574</th>\n",
              "      <td>3604</td>\n",
              "      <td>East China University of Science and Technology</td>\n",
              "      <td>Synthesis of Fine Chemical and Molecular</td>\n",
              "      <td>Phd</td>\n",
              "      <td>English</td>\n",
              "      <td>38950.0</td>\n",
              "      <td>1</td>\n",
              "      <td>1</td>\n",
              "      <td>0</td>\n",
              "      <td>38950.0</td>\n",
              "      <td>Sep</td>\n",
              "      <td>2019</td>\n",
              "      <td>0.0</td>\n",
              "      <td>YEAR</td>\n",
              "      <td>0.0</td>\n",
              "      <td>MONTH</td>\n",
              "    </tr>\n",
              "    <tr>\n",
              "      <th>3575</th>\n",
              "      <td>3605</td>\n",
              "      <td>East China University of Science and Technology</td>\n",
              "      <td>Sociology of Law</td>\n",
              "      <td>Phd</td>\n",
              "      <td>English</td>\n",
              "      <td>38950.0</td>\n",
              "      <td>1</td>\n",
              "      <td>1</td>\n",
              "      <td>0</td>\n",
              "      <td>38950.0</td>\n",
              "      <td>Sep</td>\n",
              "      <td>2019</td>\n",
              "      <td>0.0</td>\n",
              "      <td>YEAR</td>\n",
              "      <td>0.0</td>\n",
              "      <td>MONTH</td>\n",
              "    </tr>\n",
              "  </tbody>\n",
              "</table>\n",
              "</div>\n",
              "      <button class=\"colab-df-convert\" onclick=\"convertToInteractive('df-c3e4a551-bbdd-4e37-8518-790ae9227530')\"\n",
              "              title=\"Convert this dataframe to an interactive table.\"\n",
              "              style=\"display:none;\">\n",
              "        \n",
              "  <svg xmlns=\"http://www.w3.org/2000/svg\" height=\"24px\"viewBox=\"0 0 24 24\"\n",
              "       width=\"24px\">\n",
              "    <path d=\"M0 0h24v24H0V0z\" fill=\"none\"/>\n",
              "    <path d=\"M18.56 5.44l.94 2.06.94-2.06 2.06-.94-2.06-.94-.94-2.06-.94 2.06-2.06.94zm-11 1L8.5 8.5l.94-2.06 2.06-.94-2.06-.94L8.5 2.5l-.94 2.06-2.06.94zm10 10l.94 2.06.94-2.06 2.06-.94-2.06-.94-.94-2.06-.94 2.06-2.06.94z\"/><path d=\"M17.41 7.96l-1.37-1.37c-.4-.4-.92-.59-1.43-.59-.52 0-1.04.2-1.43.59L10.3 9.45l-7.72 7.72c-.78.78-.78 2.05 0 2.83L4 21.41c.39.39.9.59 1.41.59.51 0 1.02-.2 1.41-.59l7.78-7.78 2.81-2.81c.8-.78.8-2.07 0-2.86zM5.41 20L4 18.59l7.72-7.72 1.47 1.35L5.41 20z\"/>\n",
              "  </svg>\n",
              "      </button>\n",
              "      \n",
              "  <style>\n",
              "    .colab-df-container {\n",
              "      display:flex;\n",
              "      flex-wrap:wrap;\n",
              "      gap: 12px;\n",
              "    }\n",
              "\n",
              "    .colab-df-convert {\n",
              "      background-color: #E8F0FE;\n",
              "      border: none;\n",
              "      border-radius: 50%;\n",
              "      cursor: pointer;\n",
              "      display: none;\n",
              "      fill: #1967D2;\n",
              "      height: 32px;\n",
              "      padding: 0 0 0 0;\n",
              "      width: 32px;\n",
              "    }\n",
              "\n",
              "    .colab-df-convert:hover {\n",
              "      background-color: #E2EBFA;\n",
              "      box-shadow: 0px 1px 2px rgba(60, 64, 67, 0.3), 0px 1px 3px 1px rgba(60, 64, 67, 0.15);\n",
              "      fill: #174EA6;\n",
              "    }\n",
              "\n",
              "    [theme=dark] .colab-df-convert {\n",
              "      background-color: #3B4455;\n",
              "      fill: #D2E3FC;\n",
              "    }\n",
              "\n",
              "    [theme=dark] .colab-df-convert:hover {\n",
              "      background-color: #434B5C;\n",
              "      box-shadow: 0px 1px 3px 1px rgba(0, 0, 0, 0.15);\n",
              "      filter: drop-shadow(0px 1px 2px rgba(0, 0, 0, 0.3));\n",
              "      fill: #FFFFFF;\n",
              "    }\n",
              "  </style>\n",
              "\n",
              "      <script>\n",
              "        const buttonEl =\n",
              "          document.querySelector('#df-c3e4a551-bbdd-4e37-8518-790ae9227530 button.colab-df-convert');\n",
              "        buttonEl.style.display =\n",
              "          google.colab.kernel.accessAllowed ? 'block' : 'none';\n",
              "\n",
              "        async function convertToInteractive(key) {\n",
              "          const element = document.querySelector('#df-c3e4a551-bbdd-4e37-8518-790ae9227530');\n",
              "          const dataTable =\n",
              "            await google.colab.kernel.invokeFunction('convertToInteractive',\n",
              "                                                     [key], {});\n",
              "          if (!dataTable) return;\n",
              "\n",
              "          const docLinkHtml = 'Like what you see? Visit the ' +\n",
              "            '<a target=\"_blank\" href=https://colab.research.google.com/notebooks/data_table.ipynb>data table notebook</a>'\n",
              "            + ' to learn more about interactive tables.';\n",
              "          element.innerHTML = '';\n",
              "          dataTable['output_type'] = 'display_data';\n",
              "          await google.colab.output.renderOutput(dataTable, element);\n",
              "          const docLink = document.createElement('div');\n",
              "          docLink.innerHTML = docLinkHtml;\n",
              "          element.appendChild(docLink);\n",
              "        }\n",
              "      </script>\n",
              "    </div>\n",
              "  </div>\n",
              "  "
            ]
          },
          "metadata": {},
          "execution_count": 192
        }
      ],
      "source": [
        "df.tail()"
      ]
    },
    {
      "cell_type": "code",
      "source": [
        "df.shape"
      ],
      "metadata": {
        "colab": {
          "base_uri": "https://localhost:8080/"
        },
        "id": "EYD77nbndr6O",
        "outputId": "7f2d6ed7-41b1-47f5-8bf4-d472c0d59976"
      },
      "execution_count": 193,
      "outputs": [
        {
          "output_type": "execute_result",
          "data": {
            "text/plain": [
              "(3576, 16)"
            ]
          },
          "metadata": {},
          "execution_count": 193
        }
      ]
    },
    {
      "cell_type": "code",
      "source": [
        "df.describe()"
      ],
      "metadata": {
        "colab": {
          "base_uri": "https://localhost:8080/",
          "height": 398
        },
        "id": "etoSozqXb3QN",
        "outputId": "f2a29edd-465c-4d5c-e8be-bb91f9b8fd4b"
      },
      "execution_count": 194,
      "outputs": [
        {
          "output_type": "execute_result",
          "data": {
            "text/plain": [
              "          schol_id  Tuition Covered  Accomodation covered?  \\\n",
              "count  3576.000000      3453.000000            3576.000000   \n",
              "mean   1816.503076     20531.704315               0.232942   \n",
              "std    1034.126355     12428.124918               0.422765   \n",
              "min       1.000000         0.000000               0.000000   \n",
              "25%     923.750000     10625.000000               0.000000   \n",
              "50%    1817.500000     20000.000000               0.000000   \n",
              "75%    2711.250000     26500.000000               0.000000   \n",
              "max    3605.000000     80000.000000               1.000000   \n",
              "\n",
              "       Living Expense Covered?  Tuition fees to pay  Original Tuition fee  \\\n",
              "count              3576.000000          3576.000000           3453.000000   \n",
              "mean                  0.251119          8433.516499          28693.955980   \n",
              "std                   0.433717          9519.340675          15341.450293   \n",
              "min                   0.000000             0.000000              0.000000   \n",
              "25%                   0.000000             0.000000          20000.000000   \n",
              "50%                   0.000000          6000.000000          26500.000000   \n",
              "75%                   1.000000         11000.000000          34000.000000   \n",
              "max                   1.000000         69000.000000         148000.000000   \n",
              "\n",
              "        Start_Year  Accomodation_To_Pay  Expense_To_Pay  \n",
              "count  3576.000000          3576.000000     3576.000000  \n",
              "mean   2019.056208          1376.461969     1070.987136  \n",
              "std       0.230355          2802.526970      601.297528  \n",
              "min    2019.000000             0.000000        0.000000  \n",
              "25%    2019.000000           400.000000     1000.000000  \n",
              "50%    2019.000000           900.000000     1000.000000  \n",
              "75%    2019.000000          1200.000000     1500.000000  \n",
              "max    2020.000000         24000.000000     2700.000000  "
            ],
            "text/html": [
              "\n",
              "  <div id=\"df-bc0d25fe-9ffe-4d70-adba-6d3a17d2b008\">\n",
              "    <div class=\"colab-df-container\">\n",
              "      <div>\n",
              "<style scoped>\n",
              "    .dataframe tbody tr th:only-of-type {\n",
              "        vertical-align: middle;\n",
              "    }\n",
              "\n",
              "    .dataframe tbody tr th {\n",
              "        vertical-align: top;\n",
              "    }\n",
              "\n",
              "    .dataframe thead th {\n",
              "        text-align: right;\n",
              "    }\n",
              "</style>\n",
              "<table border=\"1\" class=\"dataframe\">\n",
              "  <thead>\n",
              "    <tr style=\"text-align: right;\">\n",
              "      <th></th>\n",
              "      <th>schol_id</th>\n",
              "      <th>Tuition Covered</th>\n",
              "      <th>Accomodation covered?</th>\n",
              "      <th>Living Expense Covered?</th>\n",
              "      <th>Tuition fees to pay</th>\n",
              "      <th>Original Tuition fee</th>\n",
              "      <th>Start_Year</th>\n",
              "      <th>Accomodation_To_Pay</th>\n",
              "      <th>Expense_To_Pay</th>\n",
              "    </tr>\n",
              "  </thead>\n",
              "  <tbody>\n",
              "    <tr>\n",
              "      <th>count</th>\n",
              "      <td>3576.000000</td>\n",
              "      <td>3453.000000</td>\n",
              "      <td>3576.000000</td>\n",
              "      <td>3576.000000</td>\n",
              "      <td>3576.000000</td>\n",
              "      <td>3453.000000</td>\n",
              "      <td>3576.000000</td>\n",
              "      <td>3576.000000</td>\n",
              "      <td>3576.000000</td>\n",
              "    </tr>\n",
              "    <tr>\n",
              "      <th>mean</th>\n",
              "      <td>1816.503076</td>\n",
              "      <td>20531.704315</td>\n",
              "      <td>0.232942</td>\n",
              "      <td>0.251119</td>\n",
              "      <td>8433.516499</td>\n",
              "      <td>28693.955980</td>\n",
              "      <td>2019.056208</td>\n",
              "      <td>1376.461969</td>\n",
              "      <td>1070.987136</td>\n",
              "    </tr>\n",
              "    <tr>\n",
              "      <th>std</th>\n",
              "      <td>1034.126355</td>\n",
              "      <td>12428.124918</td>\n",
              "      <td>0.422765</td>\n",
              "      <td>0.433717</td>\n",
              "      <td>9519.340675</td>\n",
              "      <td>15341.450293</td>\n",
              "      <td>0.230355</td>\n",
              "      <td>2802.526970</td>\n",
              "      <td>601.297528</td>\n",
              "    </tr>\n",
              "    <tr>\n",
              "      <th>min</th>\n",
              "      <td>1.000000</td>\n",
              "      <td>0.000000</td>\n",
              "      <td>0.000000</td>\n",
              "      <td>0.000000</td>\n",
              "      <td>0.000000</td>\n",
              "      <td>0.000000</td>\n",
              "      <td>2019.000000</td>\n",
              "      <td>0.000000</td>\n",
              "      <td>0.000000</td>\n",
              "    </tr>\n",
              "    <tr>\n",
              "      <th>25%</th>\n",
              "      <td>923.750000</td>\n",
              "      <td>10625.000000</td>\n",
              "      <td>0.000000</td>\n",
              "      <td>0.000000</td>\n",
              "      <td>0.000000</td>\n",
              "      <td>20000.000000</td>\n",
              "      <td>2019.000000</td>\n",
              "      <td>400.000000</td>\n",
              "      <td>1000.000000</td>\n",
              "    </tr>\n",
              "    <tr>\n",
              "      <th>50%</th>\n",
              "      <td>1817.500000</td>\n",
              "      <td>20000.000000</td>\n",
              "      <td>0.000000</td>\n",
              "      <td>0.000000</td>\n",
              "      <td>6000.000000</td>\n",
              "      <td>26500.000000</td>\n",
              "      <td>2019.000000</td>\n",
              "      <td>900.000000</td>\n",
              "      <td>1000.000000</td>\n",
              "    </tr>\n",
              "    <tr>\n",
              "      <th>75%</th>\n",
              "      <td>2711.250000</td>\n",
              "      <td>26500.000000</td>\n",
              "      <td>0.000000</td>\n",
              "      <td>1.000000</td>\n",
              "      <td>11000.000000</td>\n",
              "      <td>34000.000000</td>\n",
              "      <td>2019.000000</td>\n",
              "      <td>1200.000000</td>\n",
              "      <td>1500.000000</td>\n",
              "    </tr>\n",
              "    <tr>\n",
              "      <th>max</th>\n",
              "      <td>3605.000000</td>\n",
              "      <td>80000.000000</td>\n",
              "      <td>1.000000</td>\n",
              "      <td>1.000000</td>\n",
              "      <td>69000.000000</td>\n",
              "      <td>148000.000000</td>\n",
              "      <td>2020.000000</td>\n",
              "      <td>24000.000000</td>\n",
              "      <td>2700.000000</td>\n",
              "    </tr>\n",
              "  </tbody>\n",
              "</table>\n",
              "</div>\n",
              "      <button class=\"colab-df-convert\" onclick=\"convertToInteractive('df-bc0d25fe-9ffe-4d70-adba-6d3a17d2b008')\"\n",
              "              title=\"Convert this dataframe to an interactive table.\"\n",
              "              style=\"display:none;\">\n",
              "        \n",
              "  <svg xmlns=\"http://www.w3.org/2000/svg\" height=\"24px\"viewBox=\"0 0 24 24\"\n",
              "       width=\"24px\">\n",
              "    <path d=\"M0 0h24v24H0V0z\" fill=\"none\"/>\n",
              "    <path d=\"M18.56 5.44l.94 2.06.94-2.06 2.06-.94-2.06-.94-.94-2.06-.94 2.06-2.06.94zm-11 1L8.5 8.5l.94-2.06 2.06-.94-2.06-.94L8.5 2.5l-.94 2.06-2.06.94zm10 10l.94 2.06.94-2.06 2.06-.94-2.06-.94-.94-2.06-.94 2.06-2.06.94z\"/><path d=\"M17.41 7.96l-1.37-1.37c-.4-.4-.92-.59-1.43-.59-.52 0-1.04.2-1.43.59L10.3 9.45l-7.72 7.72c-.78.78-.78 2.05 0 2.83L4 21.41c.39.39.9.59 1.41.59.51 0 1.02-.2 1.41-.59l7.78-7.78 2.81-2.81c.8-.78.8-2.07 0-2.86zM5.41 20L4 18.59l7.72-7.72 1.47 1.35L5.41 20z\"/>\n",
              "  </svg>\n",
              "      </button>\n",
              "      \n",
              "  <style>\n",
              "    .colab-df-container {\n",
              "      display:flex;\n",
              "      flex-wrap:wrap;\n",
              "      gap: 12px;\n",
              "    }\n",
              "\n",
              "    .colab-df-convert {\n",
              "      background-color: #E8F0FE;\n",
              "      border: none;\n",
              "      border-radius: 50%;\n",
              "      cursor: pointer;\n",
              "      display: none;\n",
              "      fill: #1967D2;\n",
              "      height: 32px;\n",
              "      padding: 0 0 0 0;\n",
              "      width: 32px;\n",
              "    }\n",
              "\n",
              "    .colab-df-convert:hover {\n",
              "      background-color: #E2EBFA;\n",
              "      box-shadow: 0px 1px 2px rgba(60, 64, 67, 0.3), 0px 1px 3px 1px rgba(60, 64, 67, 0.15);\n",
              "      fill: #174EA6;\n",
              "    }\n",
              "\n",
              "    [theme=dark] .colab-df-convert {\n",
              "      background-color: #3B4455;\n",
              "      fill: #D2E3FC;\n",
              "    }\n",
              "\n",
              "    [theme=dark] .colab-df-convert:hover {\n",
              "      background-color: #434B5C;\n",
              "      box-shadow: 0px 1px 3px 1px rgba(0, 0, 0, 0.15);\n",
              "      filter: drop-shadow(0px 1px 2px rgba(0, 0, 0, 0.3));\n",
              "      fill: #FFFFFF;\n",
              "    }\n",
              "  </style>\n",
              "\n",
              "      <script>\n",
              "        const buttonEl =\n",
              "          document.querySelector('#df-bc0d25fe-9ffe-4d70-adba-6d3a17d2b008 button.colab-df-convert');\n",
              "        buttonEl.style.display =\n",
              "          google.colab.kernel.accessAllowed ? 'block' : 'none';\n",
              "\n",
              "        async function convertToInteractive(key) {\n",
              "          const element = document.querySelector('#df-bc0d25fe-9ffe-4d70-adba-6d3a17d2b008');\n",
              "          const dataTable =\n",
              "            await google.colab.kernel.invokeFunction('convertToInteractive',\n",
              "                                                     [key], {});\n",
              "          if (!dataTable) return;\n",
              "\n",
              "          const docLinkHtml = 'Like what you see? Visit the ' +\n",
              "            '<a target=\"_blank\" href=https://colab.research.google.com/notebooks/data_table.ipynb>data table notebook</a>'\n",
              "            + ' to learn more about interactive tables.';\n",
              "          element.innerHTML = '';\n",
              "          dataTable['output_type'] = 'display_data';\n",
              "          await google.colab.output.renderOutput(dataTable, element);\n",
              "          const docLink = document.createElement('div');\n",
              "          docLink.innerHTML = docLinkHtml;\n",
              "          element.appendChild(docLink);\n",
              "        }\n",
              "      </script>\n",
              "    </div>\n",
              "  </div>\n",
              "  "
            ]
          },
          "metadata": {},
          "execution_count": 194
        }
      ]
    },
    {
      "cell_type": "code",
      "execution_count": 195,
      "metadata": {
        "colab": {
          "base_uri": "https://localhost:8080/"
        },
        "id": "vvtmSsGDJCDl",
        "outputId": "48817b1b-8e01-4dfd-82ae-e75a2e6af19d"
      },
      "outputs": [
        {
          "output_type": "stream",
          "name": "stdout",
          "text": [
            "<class 'pandas.core.frame.DataFrame'>\n",
            "RangeIndex: 3576 entries, 0 to 3575\n",
            "Data columns (total 16 columns):\n",
            " #   Column                   Non-Null Count  Dtype  \n",
            "---  ------                   --------------  -----  \n",
            " 0   schol_id                 3576 non-null   int64  \n",
            " 1   University               3576 non-null   object \n",
            " 2   Major                    3576 non-null   object \n",
            " 3   Level                    3576 non-null   object \n",
            " 4   Language                 3576 non-null   object \n",
            " 5   Tuition Covered          3453 non-null   float64\n",
            " 6   Accomodation covered?    3576 non-null   int64  \n",
            " 7   Living Expense Covered?  3576 non-null   int64  \n",
            " 8   Tuition fees to pay      3576 non-null   int64  \n",
            " 9   Original Tuition fee     3453 non-null   float64\n",
            " 10  Start_Month              3576 non-null   object \n",
            " 11  Start_Year               3576 non-null   int64  \n",
            " 12  Accomodation_To_Pay      3576 non-null   float64\n",
            " 13  Accomodation_duration    3576 non-null   object \n",
            " 14  Expense_To_Pay           3576 non-null   float64\n",
            " 15  Expense_duration         3576 non-null   object \n",
            "dtypes: float64(4), int64(5), object(7)\n",
            "memory usage: 447.1+ KB\n"
          ]
        }
      ],
      "source": [
        "df.info()"
      ]
    },
    {
      "cell_type": "markdown",
      "source": [
        "### Describe Data"
      ],
      "metadata": {
        "id": "r3iQzzeceEUH"
      }
    },
    {
      "cell_type": "code",
      "source": [
        "import pandas as pd\n",
        "import numpy as np"
      ],
      "metadata": {
        "id": "pKSoZWqleYPT"
      },
      "execution_count": 196,
      "outputs": []
    },
    {
      "cell_type": "code",
      "source": [
        "df = pd.read_csv(\"cleaned.csv\")"
      ],
      "metadata": {
        "id": "uvu2ggZweZog"
      },
      "execution_count": 197,
      "outputs": []
    },
    {
      "cell_type": "markdown",
      "source": [],
      "metadata": {
        "id": "Sh_ol08teZDP"
      }
    },
    {
      "cell_type": "code",
      "execution_count": 198,
      "metadata": {
        "colab": {
          "base_uri": "https://localhost:8080/"
        },
        "id": "5Ntrw4NKHrQg",
        "outputId": "fd96e299-b1df-4828-d0e2-dee43affdff8"
      },
      "outputs": [
        {
          "output_type": "stream",
          "name": "stdout",
          "text": [
            "      schol_id                                       University  \\\n",
            "2884      2914                       Zhejiang Normal University   \n",
            "2885      2915                       Zhejiang Normal University   \n",
            "2886      2916                       Zhejiang Normal University   \n",
            "2887      2917                       Zhejiang Normal University   \n",
            "2888      2918                       Zhejiang Normal University   \n",
            "...        ...                                              ...   \n",
            "3571      3601  East China University of Science and Technology   \n",
            "3572      3602  East China University of Science and Technology   \n",
            "3573      3603  East China University of Science and Technology   \n",
            "3574      3604  East China University of Science and Technology   \n",
            "3575      3605  East China University of Science and Technology   \n",
            "\n",
            "                                                Major Level Language  \\\n",
            "2884                                       Psychology   Phd  English   \n",
            "2885                                          Physics   Phd  English   \n",
            "2886                                       Psychology   Phd  English   \n",
            "2887                  Computer Science and Technology   Phd  English   \n",
            "2888                            Comparative Education   Phd  English   \n",
            "...                                               ...   ...      ...   \n",
            "3571            Environmental Science and Engineering   Phd  English   \n",
            "3572  Power Engineering and Engineering Thermophysics   Phd  English   \n",
            "3573                              Thermal Engineering   Phd  English   \n",
            "3574         Synthesis of Fine Chemical and Molecular   Phd  English   \n",
            "3575                                 Sociology of Law   Phd  English   \n",
            "\n",
            "      Tuition Covered  Accomodation covered?  Living Expense Covered?  \\\n",
            "2884          22800.0                      0                        0   \n",
            "2885          32000.0                      0                        0   \n",
            "2886          32000.0                      0                        0   \n",
            "2887          32000.0                      0                        0   \n",
            "2888          32000.0                      0                        0   \n",
            "...               ...                    ...                      ...   \n",
            "3571          38950.0                      1                        1   \n",
            "3572          38950.0                      1                        1   \n",
            "3573          38950.0                      1                        1   \n",
            "3574          38950.0                      1                        1   \n",
            "3575          38950.0                      1                        1   \n",
            "\n",
            "      Tuition fees to pay  Original Tuition fee Start_Month  Start_Year  \\\n",
            "2884                    0               22800.0         Sep        2019   \n",
            "2885                    0               32000.0         Sep        2019   \n",
            "2886                    0               32000.0         Sep        2019   \n",
            "2887                    0               32000.0         Sep        2019   \n",
            "2888                    0               32000.0         Sep        2019   \n",
            "...                   ...                   ...         ...         ...   \n",
            "3571                    0               38950.0         Sep        2019   \n",
            "3572                    0               38950.0         Sep        2019   \n",
            "3573                    0               38950.0         Sep        2019   \n",
            "3574                    0               38950.0         Sep        2019   \n",
            "3575                    0               38950.0         Sep        2019   \n",
            "\n",
            "      Accomodation_To_Pay Accomodation_duration  Expense_To_Pay  \\\n",
            "2884                825.0                 MONTH          1500.0   \n",
            "2885                600.0                 MONTH          1500.0   \n",
            "2886                600.0                 MONTH          1500.0   \n",
            "2887                600.0                 MONTH          1500.0   \n",
            "2888                600.0                 MONTH          1500.0   \n",
            "...                   ...                   ...             ...   \n",
            "3571                  0.0                  YEAR             0.0   \n",
            "3572                  0.0                  YEAR             0.0   \n",
            "3573                  0.0                  YEAR             0.0   \n",
            "3574                  0.0                  YEAR             0.0   \n",
            "3575                  0.0                  YEAR             0.0   \n",
            "\n",
            "     Expense_duration  \n",
            "2884            MONTH  \n",
            "2885            MONTH  \n",
            "2886            MONTH  \n",
            "2887            MONTH  \n",
            "2888            MONTH  \n",
            "...               ...  \n",
            "3571            MONTH  \n",
            "3572            MONTH  \n",
            "3573            MONTH  \n",
            "3574            MONTH  \n",
            "3575            MONTH  \n",
            "\n",
            "[692 rows x 16 columns]\n"
          ]
        }
      ],
      "source": [
        "# df1 isinya dataset dengan label target Phd\n",
        "df1 = df[df['Level'] == 'Phd']\n",
        "\n",
        "# Menampilkan hasil filter\n",
        "print(df1)"
      ]
    },
    {
      "cell_type": "code",
      "execution_count": 199,
      "metadata": {
        "colab": {
          "base_uri": "https://localhost:8080/"
        },
        "id": "R0s5Iu-AIskq",
        "outputId": "a511639c-fd94-40aa-b937-8d68fcb1503f"
      },
      "outputs": [
        {
          "output_type": "stream",
          "name": "stdout",
          "text": [
            "      schol_id                                         University  \\\n",
            "0            1  Shanghai University of Traditional Chinese Med...   \n",
            "1            2     Changchun University of Science and Technology   \n",
            "2            3     Changchun University of Science and Technology   \n",
            "3            4     Changchun University of Science and Technology   \n",
            "4            5                                 Qingdao University   \n",
            "...        ...                                                ...   \n",
            "2879      2909             Xi'an International Studies University   \n",
            "2880      2910             Xi'an International Studies University   \n",
            "2881      2911  Beijing Foreign Studies University-Internation...   \n",
            "2882      2912  Beijing Foreign Studies University-Internation...   \n",
            "2883      2913  Beijing Foreign Studies University-Internation...   \n",
            "\n",
            "                                                  Major       Level Language  \\\n",
            "0                                   Summer School (TCM)  Non-Degree  English   \n",
            "1     Preparatory Program of Humanities Direction(Pa...  Non-Degree  Chinese   \n",
            "2     Preparatory Program of Business Direction(Path A)  Non-Degree  Chinese   \n",
            "3     Preparatory Program of Science and Engineering...  Non-Degree  Chinese   \n",
            "4                    Long-term Chinese Language Program  Non-Degree  Chinese   \n",
            "...                                                 ...         ...      ...   \n",
            "2879                Russian Translation(Changan Campus)      Master  Chinese   \n",
            "2880  Teaching Chinese as a Second Language(Yanta Ca...      Master  Chinese   \n",
            "2881  International Business(Beijing Campus or Fosha...      Master  English   \n",
            "2882  International Business(Beijing Campus or Fosha...      Master  English   \n",
            "2883  International Business(Beijing Campus or Fosha...      Master  English   \n",
            "\n",
            "      Tuition Covered  Accomodation covered?  Living Expense Covered?  \\\n",
            "0              7500.0                      0                        0   \n",
            "1             10000.0                      0                        0   \n",
            "2             10000.0                      0                        0   \n",
            "3             10000.0                      0                        0   \n",
            "4              7000.0                      1                        1   \n",
            "...               ...                    ...                      ...   \n",
            "2879          20000.0                      0                        0   \n",
            "2880          20000.0                      0                        0   \n",
            "2881          45000.0                      1                        0   \n",
            "2882          45000.0                      0                        0   \n",
            "2883          45000.0                      1                        0   \n",
            "\n",
            "      Tuition fees to pay  Original Tuition fee Start_Month  Start_Year  \\\n",
            "0                       0                7500.0         Jun        2020   \n",
            "1                   10000               20000.0         Sep        2019   \n",
            "2                   10000               20000.0         Sep        2019   \n",
            "3                   10000               20000.0         Sep        2019   \n",
            "4                       0                7000.0         Sep        2019   \n",
            "...                   ...                   ...         ...         ...   \n",
            "2879                    0               20000.0         Sep        2019   \n",
            "2880                    0               20000.0         Sep        2019   \n",
            "2881                    0               45000.0         Sep        2019   \n",
            "2882                11250               56250.0         Sep        2019   \n",
            "2883                22500               67500.0         Sep        2019   \n",
            "\n",
            "      Accomodation_To_Pay Accomodation_duration  Expense_To_Pay  \\\n",
            "0                  9750.0                 MONTH          1000.0   \n",
            "1                  1500.0                 MONTH          1500.0   \n",
            "2                  1500.0                 MONTH          1500.0   \n",
            "3                  1500.0                 MONTH          1500.0   \n",
            "4                     0.0                  YEAR             0.0   \n",
            "...                   ...                   ...             ...   \n",
            "2879               1800.0                  YEAR          1500.0   \n",
            "2880               1800.0                  YEAR          1500.0   \n",
            "2881                  0.0                  YEAR           900.0   \n",
            "2882               1200.0                 MONTH           900.0   \n",
            "2883               3300.0              SEMESTER           900.0   \n",
            "\n",
            "     Expense_duration  \n",
            "0               MONTH  \n",
            "1               MONTH  \n",
            "2               MONTH  \n",
            "3               MONTH  \n",
            "4               MONTH  \n",
            "...               ...  \n",
            "2879            MONTH  \n",
            "2880            MONTH  \n",
            "2881            MONTH  \n",
            "2882            MONTH  \n",
            "2883            MONTH  \n",
            "\n",
            "[2884 rows x 16 columns]\n"
          ]
        }
      ],
      "source": [
        "# df2 isinya dataset dengan label target bukan Phd\n",
        "df2 = df[df['Level'] != 'Phd']\n",
        "\n",
        "# Menampilkan hasil filter\n",
        "print(df2)"
      ]
    },
    {
      "cell_type": "code",
      "execution_count": 200,
      "metadata": {
        "colab": {
          "base_uri": "https://localhost:8080/"
        },
        "id": "QPjTCCPjITIj",
        "outputId": "fbb655a4-8555-43d8-8c26-4b8ab668db88"
      },
      "outputs": [
        {
          "output_type": "stream",
          "name": "stdout",
          "text": [
            "     schol_id          University                                   Major  \\\n",
            "4           5  Qingdao University      Long-term Chinese Language Program   \n",
            "5           6  Qingdao University      Long-term Chinese Language Program   \n",
            "183       213  Qingdao University       Bachelor of Software Engineering    \n",
            "184       214  Qingdao University  Bachelor's Program of Chinese Language   \n",
            "\n",
            "          Level Language  Tuition Covered  Accomodation covered?  \\\n",
            "4    Non-Degree  Chinese           7000.0                      1   \n",
            "5    Non-Degree  Chinese          14000.0                      1   \n",
            "183    Bachelor  English          20000.0                      0   \n",
            "184    Bachelor  Chinese          18000.0                      1   \n",
            "\n",
            "     Living Expense Covered?  Tuition fees to pay  Original Tuition fee  \\\n",
            "4                          1                    0                7000.0   \n",
            "5                          1                    0               14000.0   \n",
            "183                        0                    0               20000.0   \n",
            "184                        1                 4500               22500.0   \n",
            "\n",
            "    Start_Month  Start_Year  Accomodation_To_Pay Accomodation_duration  \\\n",
            "4           Sep        2019                  0.0                  YEAR   \n",
            "5           Sep        2019                  0.0                  YEAR   \n",
            "183         Aug        2019                958.0                 MONTH   \n",
            "184         Sep        2019                  0.0                  YEAR   \n",
            "\n",
            "     Expense_To_Pay Expense_duration  \n",
            "4               0.0            MONTH  \n",
            "5               0.0            MONTH  \n",
            "183          1250.0            MONTH  \n",
            "184             0.0            MONTH  \n"
          ]
        }
      ],
      "source": [
        "# df3 isinya dataset dengan label target Qingdao University\n",
        "df3 = df[df['University'] == 'Qingdao University']\n",
        "\n",
        "# Menampilkan hasil filter\n",
        "print(df3)"
      ]
    },
    {
      "cell_type": "code",
      "source": [
        "# df4 isinya dataset dengan label target UNIVERSITAS MULAWARMAN\n",
        "df4 = df['Major']\n",
        "\n",
        "# Menampilkan hasil filter\n",
        "print(df4.tail)"
      ],
      "metadata": {
        "colab": {
          "base_uri": "https://localhost:8080/"
        },
        "id": "qN-h88xJdfIr",
        "outputId": "f208dc24-dbe3-4f12-9258-d595adef8d20"
      },
      "execution_count": 201,
      "outputs": [
        {
          "output_type": "stream",
          "name": "stdout",
          "text": [
            "<bound method NDFrame.tail of 0                                     Summer School (TCM)\n",
            "1       Preparatory Program of Humanities Direction(Pa...\n",
            "2       Preparatory Program of Business Direction(Path A)\n",
            "3       Preparatory Program of Science and Engineering...\n",
            "4                      Long-term Chinese Language Program\n",
            "                              ...                        \n",
            "3571                Environmental Science and Engineering\n",
            "3572      Power Engineering and Engineering Thermophysics\n",
            "3573                                  Thermal Engineering\n",
            "3574             Synthesis of Fine Chemical and Molecular\n",
            "3575                                     Sociology of Law\n",
            "Name: Major, Length: 3576, dtype: object>\n"
          ]
        }
      ]
    },
    {
      "cell_type": "code",
      "execution_count": 202,
      "metadata": {
        "colab": {
          "base_uri": "https://localhost:8080/"
        },
        "id": "7Muev8e6Kpdq",
        "outputId": "5e434ede-748e-4664-dc29-4395265258f6"
      },
      "outputs": [
        {
          "output_type": "stream",
          "name": "stdout",
          "text": [
            "      schol_id                                         University  \\\n",
            "0            1  Shanghai University of Traditional Chinese Med...   \n",
            "4            5                                 Qingdao University   \n",
            "12          13             Zhengzhou University of Light Industry   \n",
            "13          14             Zhengzhou University of Light Industry   \n",
            "14          15       Beijing Chinese Language and Culture College   \n",
            "...        ...                                                ...   \n",
            "3443      3473              North China Electric Power University   \n",
            "3531      3561                 Tianjin Foreign Studies University   \n",
            "3532      3562                 Tianjin Foreign Studies University   \n",
            "3533      3563                 Tianjin Foreign Studies University   \n",
            "3534      3564                 Tianjin Foreign Studies University   \n",
            "\n",
            "                                                  Major       Level Language  \\\n",
            "0                                   Summer School (TCM)  Non-Degree  English   \n",
            "4                    Long-term Chinese Language Program  Non-Degree  Chinese   \n",
            "12                             Chinese Language Program  Non-Degree  Chinese   \n",
            "13                             Chinese Language Program  Non-Degree  Chinese   \n",
            "14                               Chinese Language Class  Non-Degree  Chinese   \n",
            "...                                                 ...         ...      ...   \n",
            "3443                             Electrical Engineering         Phd  English   \n",
            "3531  English & Chinese Translation Studies(3-year p...         Phd  Chinese   \n",
            "3532  Japanese & Chinese Translation Studies (3-year...         Phd  Chinese   \n",
            "3533  Russian& Chinese Translation Studies(3-year pr...         Phd  Chinese   \n",
            "3534  Korean & Chinese Translation Studies(3-year pr...         Phd  Chinese   \n",
            "\n",
            "      Tuition Covered  Accomodation covered?  Living Expense Covered?  \\\n",
            "0              7500.0                      0                        0   \n",
            "4              7000.0                      1                        1   \n",
            "12             7500.0                      0                        0   \n",
            "13             7500.0                      0                        0   \n",
            "14             3000.0                      0                        0   \n",
            "...               ...                    ...                      ...   \n",
            "3443              0.0                      0                        1   \n",
            "3531              0.0                      0                        0   \n",
            "3532              0.0                      0                        0   \n",
            "3533              0.0                      0                        0   \n",
            "3534              0.0                      0                        0   \n",
            "\n",
            "      Tuition fees to pay  Original Tuition fee Start_Month  Start_Year  \\\n",
            "0                       0                7500.0         Jun        2020   \n",
            "4                       0                7000.0         Sep        2019   \n",
            "12                   1500                9000.0         Sep        2019   \n",
            "13                   1500                9000.0         Sep        2019   \n",
            "14                  14700               17700.0         Sep        2019   \n",
            "...                   ...                   ...         ...         ...   \n",
            "3443                35000               35000.0         Sep        2019   \n",
            "3531                    0                   0.0         Sep        2019   \n",
            "3532                    0                   0.0         Sep        2019   \n",
            "3533                    0                   0.0         Sep        2019   \n",
            "3534                    0                   0.0         Sep        2019   \n",
            "\n",
            "      Accomodation_To_Pay Accomodation_duration  Expense_To_Pay  \\\n",
            "0                  9750.0                 MONTH          1000.0   \n",
            "4                     0.0                  YEAR             0.0   \n",
            "12                 1000.0                 MONTH          1500.0   \n",
            "13                 1000.0                 MONTH          1500.0   \n",
            "14                 1700.0                 MONTH          1000.0   \n",
            "...                   ...                   ...             ...   \n",
            "3443               1200.0                 MONTH             0.0   \n",
            "3531                 60.0                   DAY          1500.0   \n",
            "3532                 60.0                   DAY          1500.0   \n",
            "3533                 60.0                   DAY          1500.0   \n",
            "3534                 60.0                   DAY          1500.0   \n",
            "\n",
            "     Expense_duration  \n",
            "0               MONTH  \n",
            "4               MONTH  \n",
            "12              MONTH  \n",
            "13              MONTH  \n",
            "14              MONTH  \n",
            "...               ...  \n",
            "3443            MONTH  \n",
            "3531            MONTH  \n",
            "3532            MONTH  \n",
            "3533            MONTH  \n",
            "3534            MONTH  \n",
            "\n",
            "[732 rows x 16 columns]\n"
          ]
        }
      ],
      "source": [
        "# df4 isinya dataset dengan label target UNIVERSITAS MULAWARMAN\n",
        "df4 = df[df['Tuition Covered'] < 10000.0]\n",
        "\n",
        "# Menampilkan hasil filter\n",
        "print(df4)"
      ]
    },
    {
      "cell_type": "code",
      "execution_count": 203,
      "metadata": {
        "colab": {
          "base_uri": "https://localhost:8080/",
          "height": 522
        },
        "id": "dPbNgf_WJH0e",
        "outputId": "89a08ebc-5d71-42e1-ddfd-e8b90cd26d6c"
      },
      "outputs": [
        {
          "output_type": "execute_result",
          "data": {
            "text/plain": [
              "      schol_id  Tuition Covered  Accomodation covered?  \\\n",
              "0            1           7500.0                      0   \n",
              "1            2          10000.0                      0   \n",
              "2            3          10000.0                      0   \n",
              "3            4          10000.0                      0   \n",
              "4            5           7000.0                      1   \n",
              "...        ...              ...                    ...   \n",
              "3571      3601          38950.0                      1   \n",
              "3572      3602          38950.0                      1   \n",
              "3573      3603          38950.0                      1   \n",
              "3574      3604          38950.0                      1   \n",
              "3575      3605          38950.0                      1   \n",
              "\n",
              "      Living Expense Covered?  Tuition fees to pay  Original Tuition fee  \\\n",
              "0                           0                    0                7500.0   \n",
              "1                           0                10000               20000.0   \n",
              "2                           0                10000               20000.0   \n",
              "3                           0                10000               20000.0   \n",
              "4                           1                    0                7000.0   \n",
              "...                       ...                  ...                   ...   \n",
              "3571                        1                    0               38950.0   \n",
              "3572                        1                    0               38950.0   \n",
              "3573                        1                    0               38950.0   \n",
              "3574                        1                    0               38950.0   \n",
              "3575                        1                    0               38950.0   \n",
              "\n",
              "      Start_Year  Accomodation_To_Pay  Expense_To_Pay  \n",
              "0           2020               9750.0          1000.0  \n",
              "1           2019               1500.0          1500.0  \n",
              "2           2019               1500.0          1500.0  \n",
              "3           2019               1500.0          1500.0  \n",
              "4           2019                  0.0             0.0  \n",
              "...          ...                  ...             ...  \n",
              "3571        2019                  0.0             0.0  \n",
              "3572        2019                  0.0             0.0  \n",
              "3573        2019                  0.0             0.0  \n",
              "3574        2019                  0.0             0.0  \n",
              "3575        2019                  0.0             0.0  \n",
              "\n",
              "[3576 rows x 9 columns]"
            ],
            "text/html": [
              "\n",
              "  <div id=\"df-7eff9645-c30f-421b-893d-7bcd769000de\">\n",
              "    <div class=\"colab-df-container\">\n",
              "      <div>\n",
              "<style scoped>\n",
              "    .dataframe tbody tr th:only-of-type {\n",
              "        vertical-align: middle;\n",
              "    }\n",
              "\n",
              "    .dataframe tbody tr th {\n",
              "        vertical-align: top;\n",
              "    }\n",
              "\n",
              "    .dataframe thead th {\n",
              "        text-align: right;\n",
              "    }\n",
              "</style>\n",
              "<table border=\"1\" class=\"dataframe\">\n",
              "  <thead>\n",
              "    <tr style=\"text-align: right;\">\n",
              "      <th></th>\n",
              "      <th>schol_id</th>\n",
              "      <th>Tuition Covered</th>\n",
              "      <th>Accomodation covered?</th>\n",
              "      <th>Living Expense Covered?</th>\n",
              "      <th>Tuition fees to pay</th>\n",
              "      <th>Original Tuition fee</th>\n",
              "      <th>Start_Year</th>\n",
              "      <th>Accomodation_To_Pay</th>\n",
              "      <th>Expense_To_Pay</th>\n",
              "    </tr>\n",
              "  </thead>\n",
              "  <tbody>\n",
              "    <tr>\n",
              "      <th>0</th>\n",
              "      <td>1</td>\n",
              "      <td>7500.0</td>\n",
              "      <td>0</td>\n",
              "      <td>0</td>\n",
              "      <td>0</td>\n",
              "      <td>7500.0</td>\n",
              "      <td>2020</td>\n",
              "      <td>9750.0</td>\n",
              "      <td>1000.0</td>\n",
              "    </tr>\n",
              "    <tr>\n",
              "      <th>1</th>\n",
              "      <td>2</td>\n",
              "      <td>10000.0</td>\n",
              "      <td>0</td>\n",
              "      <td>0</td>\n",
              "      <td>10000</td>\n",
              "      <td>20000.0</td>\n",
              "      <td>2019</td>\n",
              "      <td>1500.0</td>\n",
              "      <td>1500.0</td>\n",
              "    </tr>\n",
              "    <tr>\n",
              "      <th>2</th>\n",
              "      <td>3</td>\n",
              "      <td>10000.0</td>\n",
              "      <td>0</td>\n",
              "      <td>0</td>\n",
              "      <td>10000</td>\n",
              "      <td>20000.0</td>\n",
              "      <td>2019</td>\n",
              "      <td>1500.0</td>\n",
              "      <td>1500.0</td>\n",
              "    </tr>\n",
              "    <tr>\n",
              "      <th>3</th>\n",
              "      <td>4</td>\n",
              "      <td>10000.0</td>\n",
              "      <td>0</td>\n",
              "      <td>0</td>\n",
              "      <td>10000</td>\n",
              "      <td>20000.0</td>\n",
              "      <td>2019</td>\n",
              "      <td>1500.0</td>\n",
              "      <td>1500.0</td>\n",
              "    </tr>\n",
              "    <tr>\n",
              "      <th>4</th>\n",
              "      <td>5</td>\n",
              "      <td>7000.0</td>\n",
              "      <td>1</td>\n",
              "      <td>1</td>\n",
              "      <td>0</td>\n",
              "      <td>7000.0</td>\n",
              "      <td>2019</td>\n",
              "      <td>0.0</td>\n",
              "      <td>0.0</td>\n",
              "    </tr>\n",
              "    <tr>\n",
              "      <th>...</th>\n",
              "      <td>...</td>\n",
              "      <td>...</td>\n",
              "      <td>...</td>\n",
              "      <td>...</td>\n",
              "      <td>...</td>\n",
              "      <td>...</td>\n",
              "      <td>...</td>\n",
              "      <td>...</td>\n",
              "      <td>...</td>\n",
              "    </tr>\n",
              "    <tr>\n",
              "      <th>3571</th>\n",
              "      <td>3601</td>\n",
              "      <td>38950.0</td>\n",
              "      <td>1</td>\n",
              "      <td>1</td>\n",
              "      <td>0</td>\n",
              "      <td>38950.0</td>\n",
              "      <td>2019</td>\n",
              "      <td>0.0</td>\n",
              "      <td>0.0</td>\n",
              "    </tr>\n",
              "    <tr>\n",
              "      <th>3572</th>\n",
              "      <td>3602</td>\n",
              "      <td>38950.0</td>\n",
              "      <td>1</td>\n",
              "      <td>1</td>\n",
              "      <td>0</td>\n",
              "      <td>38950.0</td>\n",
              "      <td>2019</td>\n",
              "      <td>0.0</td>\n",
              "      <td>0.0</td>\n",
              "    </tr>\n",
              "    <tr>\n",
              "      <th>3573</th>\n",
              "      <td>3603</td>\n",
              "      <td>38950.0</td>\n",
              "      <td>1</td>\n",
              "      <td>1</td>\n",
              "      <td>0</td>\n",
              "      <td>38950.0</td>\n",
              "      <td>2019</td>\n",
              "      <td>0.0</td>\n",
              "      <td>0.0</td>\n",
              "    </tr>\n",
              "    <tr>\n",
              "      <th>3574</th>\n",
              "      <td>3604</td>\n",
              "      <td>38950.0</td>\n",
              "      <td>1</td>\n",
              "      <td>1</td>\n",
              "      <td>0</td>\n",
              "      <td>38950.0</td>\n",
              "      <td>2019</td>\n",
              "      <td>0.0</td>\n",
              "      <td>0.0</td>\n",
              "    </tr>\n",
              "    <tr>\n",
              "      <th>3575</th>\n",
              "      <td>3605</td>\n",
              "      <td>38950.0</td>\n",
              "      <td>1</td>\n",
              "      <td>1</td>\n",
              "      <td>0</td>\n",
              "      <td>38950.0</td>\n",
              "      <td>2019</td>\n",
              "      <td>0.0</td>\n",
              "      <td>0.0</td>\n",
              "    </tr>\n",
              "  </tbody>\n",
              "</table>\n",
              "<p>3576 rows × 9 columns</p>\n",
              "</div>\n",
              "      <button class=\"colab-df-convert\" onclick=\"convertToInteractive('df-7eff9645-c30f-421b-893d-7bcd769000de')\"\n",
              "              title=\"Convert this dataframe to an interactive table.\"\n",
              "              style=\"display:none;\">\n",
              "        \n",
              "  <svg xmlns=\"http://www.w3.org/2000/svg\" height=\"24px\"viewBox=\"0 0 24 24\"\n",
              "       width=\"24px\">\n",
              "    <path d=\"M0 0h24v24H0V0z\" fill=\"none\"/>\n",
              "    <path d=\"M18.56 5.44l.94 2.06.94-2.06 2.06-.94-2.06-.94-.94-2.06-.94 2.06-2.06.94zm-11 1L8.5 8.5l.94-2.06 2.06-.94-2.06-.94L8.5 2.5l-.94 2.06-2.06.94zm10 10l.94 2.06.94-2.06 2.06-.94-2.06-.94-.94-2.06-.94 2.06-2.06.94z\"/><path d=\"M17.41 7.96l-1.37-1.37c-.4-.4-.92-.59-1.43-.59-.52 0-1.04.2-1.43.59L10.3 9.45l-7.72 7.72c-.78.78-.78 2.05 0 2.83L4 21.41c.39.39.9.59 1.41.59.51 0 1.02-.2 1.41-.59l7.78-7.78 2.81-2.81c.8-.78.8-2.07 0-2.86zM5.41 20L4 18.59l7.72-7.72 1.47 1.35L5.41 20z\"/>\n",
              "  </svg>\n",
              "      </button>\n",
              "      \n",
              "  <style>\n",
              "    .colab-df-container {\n",
              "      display:flex;\n",
              "      flex-wrap:wrap;\n",
              "      gap: 12px;\n",
              "    }\n",
              "\n",
              "    .colab-df-convert {\n",
              "      background-color: #E8F0FE;\n",
              "      border: none;\n",
              "      border-radius: 50%;\n",
              "      cursor: pointer;\n",
              "      display: none;\n",
              "      fill: #1967D2;\n",
              "      height: 32px;\n",
              "      padding: 0 0 0 0;\n",
              "      width: 32px;\n",
              "    }\n",
              "\n",
              "    .colab-df-convert:hover {\n",
              "      background-color: #E2EBFA;\n",
              "      box-shadow: 0px 1px 2px rgba(60, 64, 67, 0.3), 0px 1px 3px 1px rgba(60, 64, 67, 0.15);\n",
              "      fill: #174EA6;\n",
              "    }\n",
              "\n",
              "    [theme=dark] .colab-df-convert {\n",
              "      background-color: #3B4455;\n",
              "      fill: #D2E3FC;\n",
              "    }\n",
              "\n",
              "    [theme=dark] .colab-df-convert:hover {\n",
              "      background-color: #434B5C;\n",
              "      box-shadow: 0px 1px 3px 1px rgba(0, 0, 0, 0.15);\n",
              "      filter: drop-shadow(0px 1px 2px rgba(0, 0, 0, 0.3));\n",
              "      fill: #FFFFFF;\n",
              "    }\n",
              "  </style>\n",
              "\n",
              "      <script>\n",
              "        const buttonEl =\n",
              "          document.querySelector('#df-7eff9645-c30f-421b-893d-7bcd769000de button.colab-df-convert');\n",
              "        buttonEl.style.display =\n",
              "          google.colab.kernel.accessAllowed ? 'block' : 'none';\n",
              "\n",
              "        async function convertToInteractive(key) {\n",
              "          const element = document.querySelector('#df-7eff9645-c30f-421b-893d-7bcd769000de');\n",
              "          const dataTable =\n",
              "            await google.colab.kernel.invokeFunction('convertToInteractive',\n",
              "                                                     [key], {});\n",
              "          if (!dataTable) return;\n",
              "\n",
              "          const docLinkHtml = 'Like what you see? Visit the ' +\n",
              "            '<a target=\"_blank\" href=https://colab.research.google.com/notebooks/data_table.ipynb>data table notebook</a>'\n",
              "            + ' to learn more about interactive tables.';\n",
              "          element.innerHTML = '';\n",
              "          dataTable['output_type'] = 'display_data';\n",
              "          await google.colab.output.renderOutput(dataTable, element);\n",
              "          const docLink = document.createElement('div');\n",
              "          docLink.innerHTML = docLinkHtml;\n",
              "          element.appendChild(docLink);\n",
              "        }\n",
              "      </script>\n",
              "    </div>\n",
              "  </div>\n",
              "  "
            ]
          },
          "metadata": {},
          "execution_count": 203
        }
      ],
      "source": [
        "df.select_dtypes(include=np.number)"
      ]
    },
    {
      "cell_type": "code",
      "execution_count": 204,
      "metadata": {
        "id": "rG6Pl9rxLY0d"
      },
      "outputs": [],
      "source": [
        "def tampil(kolom):\n",
        "  dfnum = df[kolom]\n",
        "\n",
        "  print(\"Nilai minimum         :\", dfnum.min())\n",
        "  print(\"Nilai maksimum        :\", dfnum.max())\n",
        "  print(\"Nilai standar deviasi :\", dfnum.std())\n",
        "  print(\"Nilai mean            :\", dfnum.mean())"
      ]
    },
    {
      "cell_type": "code",
      "execution_count": 205,
      "metadata": {
        "colab": {
          "base_uri": "https://localhost:8080/"
        },
        "id": "EGv-dxhULhMB",
        "outputId": "809475d2-2a8f-4169-f1d9-54673defaaf6"
      },
      "outputs": [
        {
          "output_type": "stream",
          "name": "stdout",
          "text": [
            "Nilai minimum         : 0.0\n",
            "Nilai maksimum        : 80000.0\n",
            "Nilai standar deviasi : 12428.124917942632\n",
            "Nilai mean            : 20531.70431508833\n"
          ]
        }
      ],
      "source": [
        "tampil(\"Tuition Covered\")"
      ]
    },
    {
      "cell_type": "code",
      "source": [
        "tampil(\"Original Tuition fee\")"
      ],
      "metadata": {
        "colab": {
          "base_uri": "https://localhost:8080/"
        },
        "id": "yhgwUhKixAHZ",
        "outputId": "9719ab9f-b2e7-436d-8eed-7a3152f5e642"
      },
      "execution_count": 206,
      "outputs": [
        {
          "output_type": "stream",
          "name": "stdout",
          "text": [
            "Nilai minimum         : 0.0\n",
            "Nilai maksimum        : 148000.0\n",
            "Nilai standar deviasi : 15341.450293450247\n",
            "Nilai mean            : 28693.95598030698\n"
          ]
        }
      ]
    },
    {
      "cell_type": "code",
      "execution_count": 207,
      "metadata": {
        "colab": {
          "base_uri": "https://localhost:8080/"
        },
        "id": "1KvuEMBtL2v_",
        "outputId": "05108440-033b-486c-997d-c1078c6c6f6d"
      },
      "outputs": [
        {
          "output_type": "stream",
          "name": "stdout",
          "text": [
            "Nilai minimum         : 0.0\n",
            "Nilai maksimum        : 24000.0\n",
            "Nilai standar deviasi : 2802.5269701491466\n",
            "Nilai mean            : 1376.4619686800895\n"
          ]
        }
      ],
      "source": [
        "tampil(\"Accomodation_To_Pay\")"
      ]
    },
    {
      "cell_type": "code",
      "execution_count": 208,
      "metadata": {
        "colab": {
          "base_uri": "https://localhost:8080/"
        },
        "id": "JWsYsKr2L9-h",
        "outputId": "28904550-0a70-4c0c-ef8d-a7b0c0c8a96a"
      },
      "outputs": [
        {
          "output_type": "stream",
          "name": "stdout",
          "text": [
            "Nilai minimum         : 0.0\n",
            "Nilai maksimum        : 2700.0\n",
            "Nilai standar deviasi : 601.2975283474238\n",
            "Nilai mean            : 1070.9871364653243\n"
          ]
        }
      ],
      "source": [
        "tampil(\"Expense_To_Pay\")"
      ]
    },
    {
      "cell_type": "markdown",
      "metadata": {
        "id": "JYDcKotMMeyx"
      },
      "source": [
        "### Explore Data"
      ]
    },
    {
      "cell_type": "code",
      "source": [
        "import pandas as pd\n",
        "import seaborn as sns\n",
        "import plotly.express as px\n",
        "import matplotlib.pyplot as plt\n",
        "pd.options.mode.chained_assignment = None\n",
        "sns.set(style = 'whitegrid')\n",
        "import textwrap"
      ],
      "metadata": {
        "id": "qBbo7jacYhAu"
      },
      "execution_count": 209,
      "outputs": []
    },
    {
      "cell_type": "code",
      "source": [
        "# Dataset\n",
        "df = pd.read_csv(\"cleaned.csv\")"
      ],
      "metadata": {
        "id": "kD_S_zzqYkXA"
      },
      "execution_count": 210,
      "outputs": []
    },
    {
      "cell_type": "markdown",
      "metadata": {
        "id": "8AjYKuh-MOb4"
      },
      "source": [
        "#### Visualisasi Comparison"
      ]
    },
    {
      "cell_type": "code",
      "execution_count": 211,
      "metadata": {
        "colab": {
          "base_uri": "https://localhost:8080/",
          "height": 298
        },
        "id": "5aAfldlsMSHX",
        "outputId": "15aeb721-2b0f-4f33-a0ba-ad272b33a1aa"
      },
      "outputs": [
        {
          "output_type": "display_data",
          "data": {
            "text/plain": [
              "<Figure size 1008x432 with 1 Axes>"
            ],
            "image/png": "[encoded data removed]"
          },
          "metadata": {}
        }
      ],
      "source": [
        "fig, ax = plt.subplots(figsize = (14, 6))\n",
        "max_width = 13\n",
        "\n",
        "index = df['Level'].fillna('NaN').value_counts().index[0:4]\n",
        "count = df['Level'].fillna('NaN').value_counts()[0:4]\n",
        "sns.barplot(x = index, y = count, order = index)\n",
        "ax.set_title('Data Keseluruhan Gelar yang ada di China', fontsize = 18)\n",
        "ax.set_xticklabels((textwrap.fill(x, max_width) for x in index), fontsize = 10)\n",
        "for i, count in enumerate(count):\n",
        "    ax.text(x=i-0.1 , y =count+0 , s=f\"{count}\" , fontdict=dict(fontsize=10))\n",
        "ax.set_ylabel('Frekuensi', fontsize = 14)\n",
        "ax.set_ylim(0, df['Level'].fillna('NaN').value_counts()[0]+10)\n",
        "\n",
        "plt.show()"
      ]
    },
    {
      "cell_type": "code",
      "source": [
        "fig, ax = plt.subplots(figsize = (14, 6))\n",
        "max_width = 13\n",
        "\n",
        "index = df['University'].fillna('NaN').value_counts().index[0:10]\n",
        "count = df['University'].fillna('NaN').value_counts()[0:10]\n",
        "sns.barplot(x = index, y = count, order = index)\n",
        "ax.set_title('Top 10 Universitas Terfavorit di China', fontsize = 18)\n",
        "ax.set_xticklabels((textwrap.fill(x, max_width) for x in index), fontsize = 10)\n",
        "for i, count in enumerate(count):\n",
        "    ax.text(x=i-0.1 , y=count+0 , s=f\"{count}\" , fontdict=dict(fontsize=10))\n",
        "ax.set_ylabel('Frekuensi', fontsize = 14)\n",
        "ax.set_ylim(0, df['University'].fillna('NaN').value_counts()[0]+10)\n",
        "\n",
        "plt.show()"
      ],
      "metadata": {
        "colab": {
          "base_uri": "https://localhost:8080/",
          "height": 334
        },
        "id": "cGdiORmF0Vq3",
        "outputId": "a5b4333c-19c5-494c-bb9c-a6c79f8336f6"
      },
      "execution_count": 212,
      "outputs": [
        {
          "output_type": "display_data",
          "data": {
            "text/plain": [
              "<Figure size 1008x432 with 1 Axes>"
            ],
            "image/png": "[encoded data removed]"
          },
          "metadata": {}
        }
      ]
    },
    {
      "cell_type": "markdown",
      "metadata": {
        "id": "KVXOKQ8rR5Ab"
      },
      "source": [
        "#### Visualisasi Distribution"
      ]
    },
    {
      "cell_type": "code",
      "execution_count": 213,
      "metadata": {
        "colab": {
          "base_uri": "https://localhost:8080/",
          "height": 637
        },
        "id": "g4krmWx3mCXq",
        "outputId": "2ae8db64-abc3-42c3-b194-a2de4ab776b2"
      },
      "outputs": [
        {
          "output_type": "display_data",
          "data": {
            "text/plain": [
              "<Figure size 1008x1008 with 4 Axes>"
            ],
            "image/png": "[encoded data removed]"
          },
          "metadata": {}
        }
      ],
      "source": [
        "# Mendefinisikan Kolom pada list dari dataset\n",
        "num_cols = ['Tuition Covered', 'Original Tuition fee', 'Accomodation_To_Pay', 'Expense_To_Pay']\n",
        "\n",
        "# Membuat diagram\n",
        "fig, ax = plt.subplots(4, figsize=(14, 14))\n",
        "fig.tight_layout(pad=4)\n",
        "\n",
        "for ax, col in zip(ax.flatten(), num_cols):\n",
        "    sns.histplot(ax=ax, data=df, x=col, kde=True, stat='density')\n",
        "    ax.set_title(col, fontsize=18)\n",
        "    ax.annotate(f\"Skewness: {df[col].skew():.2f}\", xy=(0.7, 0.9), xycoords='axes fraction')\n",
        "\n",
        "plt.show()"
      ]
    },
    {
      "cell_type": "code",
      "execution_count": 214,
      "metadata": {
        "colab": {
          "base_uri": "https://localhost:8080/",
          "height": 690
        },
        "id": "UaSnZjPENMg_",
        "outputId": "b04ac409-04a8-46ec-a26e-4a6f14faff4a"
      },
      "outputs": [
        {
          "output_type": "display_data",
          "data": {
            "text/plain": [
              "<Figure size 1008x1008 with 4 Axes>"
            ],
            "image/png": "[encoded data removed]"
          },
          "metadata": {}
        }
      ],
      "source": [
        "num_cols = ['Tuition Covered', 'Original Tuition fee', 'Accomodation_To_Pay', 'Expense_To_Pay']\n",
        "\n",
        "fig, ax = plt.subplots(len(num_cols), 1, figsize = (14, 14))\n",
        "fig.tight_layout(pad = 8)\n",
        "\n",
        "for i, col in enumerate(num_cols):\n",
        "    sns.boxplot(ax = ax[i], x = df[col], orient = 'h', color = 'yellow')\n",
        "    ax[i].set_title(col, fontsize = 18)\n",
        "\n",
        "plt.show()\n"
      ]
    },
    {
      "cell_type": "markdown",
      "metadata": {
        "id": "42hn7zepSMGN"
      },
      "source": [
        "#### Visualisasi Relationship"
      ]
    },
    {
      "cell_type": "code",
      "execution_count": 215,
      "metadata": {
        "colab": {
          "base_uri": "https://localhost:8080/",
          "height": 444
        },
        "id": "9uJsEDXsSR4u",
        "outputId": "979baea0-e055-43e3-b38b-6fac9df8c489"
      },
      "outputs": [
        {
          "output_type": "display_data",
          "data": {
            "text/plain": [
              "<Figure size 864x576 with 1 Axes>"
            ],
            "image/png": "[encoded data removed]"
          },
          "metadata": {}
        }
      ],
      "source": [
        "fig, ax = plt.subplots(figsize=(12, 8))\n",
        "sns.scatterplot(data=df, x=\"Level\", y=\"Tuition Covered\")\n",
        "ax.set_title('Bantuan Pendapatan Berdasarkan Gelar', fontsize=18)\n",
        "ax.set_xlabel('Level', fontsize=14)\n",
        "ax.set_ylabel('Tuition Covered', fontsize=14)\n",
        "plt.xticks(fontsize=12)\n",
        "plt.yticks(fontsize=12)\n",
        "plt.show()"
      ]
    },
    {
      "cell_type": "markdown",
      "metadata": {
        "id": "K94LBSeoSzMU"
      },
      "source": [
        "#### Visualisasi Composition"
      ]
    },
    {
      "cell_type": "code",
      "execution_count": 216,
      "metadata": {
        "colab": {
          "base_uri": "https://localhost:8080/",
          "height": 496
        },
        "id": "UhUR8Og9jeaD",
        "outputId": "151613dd-b944-4b5e-f6cc-b52d347271c6"
      },
      "outputs": [
        {
          "output_type": "display_data",
          "data": {
            "text/plain": [
              "<Figure size 864x576 with 2 Axes>"
            ],
            "image/png": "[encoded data removed]"
          },
          "metadata": {}
        }
      ],
      "source": [
        "cormat = df.corr()\n",
        "fig, ax = plt.subplots(figsize = (12, 8))\n",
        "sns.heatmap(ax = ax, data = cormat, annot = True)\n",
        "ax.set_yticklabels(cormat.columns, rotation = 0)\n",
        "plt.show()"
      ]
    },
    {
      "cell_type": "code",
      "execution_count": 217,
      "metadata": {
        "colab": {
          "base_uri": "https://localhost:8080/",
          "height": 482
        },
        "id": "9295uDuPS2m2",
        "outputId": "b52f8398-08a5-485d-9b48-c2fc38cacb49"
      },
      "outputs": [
        {
          "output_type": "display_data",
          "data": {
            "text/plain": [
              "<Figure size 720x576 with 1 Axes>"
            ],
            "image/png": "[encoded data removed]"
          },
          "metadata": {}
        }
      ],
      "source": [
        "# Menghitung kolom level\n",
        "level_count = df['Level'].value_counts()\n",
        "\n",
        "# Membuat Diagram Pie untuk kolom level\n",
        "fig, ax = plt.subplots(figsize=(10, 8))\n",
        "ax.pie(level_count, labels=level_count.index, autopct='%1.1f%%')\n",
        "ax.set_title('Persentase Gelar yang ada di China')\n",
        "plt.show()"
      ]
    },
    {
      "cell_type": "code",
      "execution_count": 218,
      "metadata": {
        "colab": {
          "base_uri": "https://localhost:8080/",
          "height": 591
        },
        "id": "deW6ovmlrNoi",
        "outputId": "b5606325-6195-45aa-d9d7-bd7d52b62d9a"
      },
      "outputs": [
        {
          "output_type": "display_data",
          "data": {
            "text/plain": [
              "<Figure size 720x720 with 1 Axes>"
            ],
            "image/png": "[encoded data removed]"
          },
          "metadata": {}
        }
      ],
      "source": [
        "# Menghitung kolom language\n",
        "language_count = df['Language'].value_counts()\n",
        "\n",
        "# Membuat threshold\n",
        "threshold = 10\n",
        "\n",
        "# Mengambil index dari threshold\n",
        "other_index = language_count[language_count < threshold].index\n",
        "\n",
        "# Membuat baris baru dalam kolom language\n",
        "language_count['Other'] = language_count[other_index].sum()\n",
        "\n",
        "# Menghapus index dari threshold\n",
        "language_count.drop(other_index, inplace=True)\n",
        "\n",
        "# Membuat Diagram Pie untuk kolom language\n",
        "fig, ax = plt.subplots(figsize=(10, 10))\n",
        "ax.pie(language_count, labels=language_count.index, autopct='%1.1f%%')\n",
        "ax.set_title('Persentase Gelar yang Ada di China')\n",
        "plt.show()"
      ]
    },
    {
      "cell_type": "markdown",
      "source": [
        "### Verify Data Quality"
      ],
      "metadata": {
        "id": "ZEdXcUCHWYdk"
      }
    },
    {
      "cell_type": "code",
      "source": [
        "import pandas as pd"
      ],
      "metadata": {
        "id": "RGJEQL_2XhZM"
      },
      "execution_count": 219,
      "outputs": []
    },
    {
      "cell_type": "code",
      "source": [
        "df = pd.read_csv(\"cleaned.csv\")"
      ],
      "metadata": {
        "id": "io212gNKXdya"
      },
      "execution_count": 279,
      "outputs": []
    },
    {
      "cell_type": "code",
      "source": [
        "# Mengecek value yang hilang\n",
        "missing_values = df.isna().sum()\n",
        "print(\"Missing values:\\n\", missing_values)"
      ],
      "metadata": {
        "colab": {
          "base_uri": "https://localhost:8080/"
        },
        "id": "dRaUsMicWqF7",
        "outputId": "53f81e3a-b16c-490a-cd0e-e9ed59b8ce0e"
      },
      "execution_count": 221,
      "outputs": [
        {
          "output_type": "stream",
          "name": "stdout",
          "text": [
            "Missing values:\n",
            " schol_id                     0\n",
            "University                   0\n",
            "Major                        0\n",
            "Level                        0\n",
            "Language                     0\n",
            "Tuition Covered            123\n",
            "Accomodation covered?        0\n",
            "Living Expense Covered?      0\n",
            "Tuition fees to pay          0\n",
            "Original Tuition fee       123\n",
            "Start_Month                  0\n",
            "Start_Year                   0\n",
            "Accomodation_To_Pay          0\n",
            "Accomodation_duration        0\n",
            "Expense_To_Pay               0\n",
            "Expense_duration             0\n",
            "dtype: int64\n"
          ]
        }
      ]
    },
    {
      "cell_type": "code",
      "source": [
        "# Mengecek duplikasi\n",
        "duplicate_rows = df.duplicated()\n",
        "print(\"Number of duplicate rows:\", duplicate_rows.sum())"
      ],
      "metadata": {
        "colab": {
          "base_uri": "https://localhost:8080/"
        },
        "id": "_8GcI2bRWmbn",
        "outputId": "3b299def-1bf6-40bd-8d8c-956cfa98a947"
      },
      "execution_count": 222,
      "outputs": [
        {
          "output_type": "stream",
          "name": "stdout",
          "text": [
            "Number of duplicate rows: 0\n"
          ]
        }
      ]
    },
    {
      "cell_type": "code",
      "source": [
        "# Mengecek outliers\n",
        "Q1 = df.quantile(0.25)\n",
        "Q3 = df.quantile(0.75)\n",
        "IQR = Q3 - Q1\n",
        "aligned_df, aligned_Q1 = df.align(Q1, axis=1, join='outer')\n",
        "outliers = ((aligned_df < (aligned_Q1 - 1.5 * IQR)) | (aligned_df > (Q3 + 1.5 * IQR))).sum()\n",
        "print(\"Outliers:\\n\", outliers)"
      ],
      "metadata": {
        "colab": {
          "base_uri": "https://localhost:8080/"
        },
        "id": "M9tY16CfWlvs",
        "outputId": "2192b478-10b8-49f5-ab30-e7c4facc8c54"
      },
      "execution_count": 281,
      "outputs": [
        {
          "output_type": "stream",
          "name": "stdout",
          "text": [
            "Outliers:\n",
            " Accomodation covered?      833\n",
            "Accomodation_To_Pay        377\n",
            "Accomodation_duration        0\n",
            "Expense_To_Pay             674\n",
            "Expense_duration             0\n",
            "Language                     0\n",
            "Level                        0\n",
            "Living Expense Covered?      0\n",
            "Major                        0\n",
            "Original Tuition fee        56\n",
            "Start_Month                  0\n",
            "Start_Year                 201\n",
            "Tuition Covered             48\n",
            "Tuition fees to pay        202\n",
            "University                   0\n",
            "schol_id                     0\n",
            "dtype: int64\n"
          ]
        },
        {
          "output_type": "stream",
          "name": "stderr",
          "text": [
            "<ipython-input-281-5287f8e11ece>:6: FutureWarning: Automatic reindexing on DataFrame vs Series comparisons is deprecated and will raise ValueError in a future version. Do `left, right = left.align(right, axis=1, copy=False)` before e.g. `left == right`\n",
            "  outliers = ((aligned_df < (aligned_Q1 - 1.5 * IQR)) | (aligned_df > (Q3 + 1.5 * IQR))).sum()\n"
          ]
        }
      ]
    },
    {
      "cell_type": "code",
      "source": [
        "# Mengecek tipe data\n",
        "print(\"Data types:\\n\", df.dtypes)"
      ],
      "metadata": {
        "colab": {
          "base_uri": "https://localhost:8080/"
        },
        "id": "TDrRnDxMRA5X",
        "outputId": "104a56b8-ccd9-48ae-9a11-93232ed2bb28"
      },
      "execution_count": 224,
      "outputs": [
        {
          "output_type": "stream",
          "name": "stdout",
          "text": [
            "Data types:\n",
            " schol_id                     int64\n",
            "University                  object\n",
            "Major                       object\n",
            "Level                       object\n",
            "Language                    object\n",
            "Tuition Covered            float64\n",
            "Accomodation covered?        int64\n",
            "Living Expense Covered?      int64\n",
            "Tuition fees to pay          int64\n",
            "Original Tuition fee       float64\n",
            "Start_Month                 object\n",
            "Start_Year                   int64\n",
            "Accomodation_To_Pay        float64\n",
            "Accomodation_duration       object\n",
            "Expense_To_Pay             float64\n",
            "Expense_duration            object\n",
            "dtype: object\n"
          ]
        }
      ]
    },
    {
      "cell_type": "markdown",
      "metadata": {
        "id": "ls8KVfhbTMt7"
      },
      "source": [
        "## Data Preparation"
      ]
    },
    {
      "cell_type": "markdown",
      "source": [
        "### Select Data"
      ],
      "metadata": {
        "id": "GFDD6swef29T"
      }
    },
    {
      "cell_type": "code",
      "source": [
        "import pandas as pd"
      ],
      "metadata": {
        "id": "rOwCzDpef-mu"
      },
      "execution_count": 225,
      "outputs": []
    },
    {
      "cell_type": "code",
      "source": [
        "# Dataset\n",
        "df = pd.read_csv(\"cleaned.csv\")"
      ],
      "metadata": {
        "id": "CuK4gnorgAEF"
      },
      "execution_count": 226,
      "outputs": []
    },
    {
      "cell_type": "code",
      "source": [
        "# Membuat hanya menampikan 2 Kolom\n",
        "selected_data = df[[\"University\", \"Start_Month\"]]\n",
        "\n",
        "# Menampilkan Perintah\n",
        "print(selected_data.head())"
      ],
      "metadata": {
        "colab": {
          "base_uri": "https://localhost:8080/"
        },
        "id": "8lejudVXfit4",
        "outputId": "364764eb-ba0b-4836-f198-41da319d07b1"
      },
      "execution_count": 227,
      "outputs": [
        {
          "output_type": "stream",
          "name": "stdout",
          "text": [
            "                                          University Start_Month\n",
            "0  Shanghai University of Traditional Chinese Med...         Jun\n",
            "1     Changchun University of Science and Technology         Sep\n",
            "2     Changchun University of Science and Technology         Sep\n",
            "3     Changchun University of Science and Technology         Sep\n",
            "4                                 Qingdao University         Sep\n"
          ]
        }
      ]
    },
    {
      "cell_type": "code",
      "source": [
        "# Membuat hanya menampikan 4 Kolom\n",
        "selected_data = df[[\"Tuition Covered\", \"Original Tuition fee\", \"Start_Month\", \"Start_Year\"]]\n",
        "\n",
        "# Menampilkan Perintah\n",
        "print(selected_data.head())"
      ],
      "metadata": {
        "colab": {
          "base_uri": "https://localhost:8080/"
        },
        "id": "74JXSF7FgYZr",
        "outputId": "f60da603-2f3c-4af8-bb23-ddbec6934ad6"
      },
      "execution_count": 228,
      "outputs": [
        {
          "output_type": "stream",
          "name": "stdout",
          "text": [
            "   Tuition Covered  Original Tuition fee Start_Month  Start_Year\n",
            "0           7500.0                7500.0         Jun        2020\n",
            "1          10000.0               20000.0         Sep        2019\n",
            "2          10000.0               20000.0         Sep        2019\n",
            "3          10000.0               20000.0         Sep        2019\n",
            "4           7000.0                7000.0         Sep        2019\n"
          ]
        }
      ]
    },
    {
      "cell_type": "markdown",
      "source": [
        "### Clean Data"
      ],
      "metadata": {
        "id": "-GxER1-Ka88l"
      }
    },
    {
      "cell_type": "code",
      "source": [
        "import pandas as pd"
      ],
      "metadata": {
        "id": "7sU2FznIaLp1"
      },
      "execution_count": 229,
      "outputs": []
    },
    {
      "cell_type": "code",
      "source": [
        "df = pd.read_csv(\"cleaned.csv\")"
      ],
      "metadata": {
        "id": "gB3Ig5uCaN0y"
      },
      "execution_count": 230,
      "outputs": []
    },
    {
      "cell_type": "code",
      "execution_count": 231,
      "metadata": {
        "colab": {
          "base_uri": "https://localhost:8080/"
        },
        "id": "0cqyWdtSTjRa",
        "outputId": "4c08f441-56eb-41e6-9c22-decff82e687e"
      },
      "outputs": [
        {
          "output_type": "execute_result",
          "data": {
            "text/plain": [
              "schol_id                     0\n",
              "University                   0\n",
              "Major                        0\n",
              "Level                        0\n",
              "Language                     0\n",
              "Tuition Covered            123\n",
              "Accomodation covered?        0\n",
              "Living Expense Covered?      0\n",
              "Tuition fees to pay          0\n",
              "Original Tuition fee       123\n",
              "Start_Month                  0\n",
              "Start_Year                   0\n",
              "Accomodation_To_Pay          0\n",
              "Accomodation_duration        0\n",
              "Expense_To_Pay               0\n",
              "Expense_duration             0\n",
              "dtype: int64"
            ]
          },
          "metadata": {},
          "execution_count": 231
        }
      ],
      "source": [
        "df.isna().sum()"
      ]
    },
    {
      "cell_type": "code",
      "execution_count": 232,
      "metadata": {
        "colab": {
          "base_uri": "https://localhost:8080/"
        },
        "id": "0lnwyPzFuIY2",
        "outputId": "10ae7bf0-b932-4d67-f654-d3a87ef59edc"
      },
      "outputs": [
        {
          "output_type": "execute_result",
          "data": {
            "text/plain": [
              "schol_id                   0.000000\n",
              "University                 0.000000\n",
              "Major                      0.000000\n",
              "Level                      0.000000\n",
              "Language                   0.000000\n",
              "Tuition Covered            3.439597\n",
              "Accomodation covered?      0.000000\n",
              "Living Expense Covered?    0.000000\n",
              "Tuition fees to pay        0.000000\n",
              "Original Tuition fee       3.439597\n",
              "Start_Month                0.000000\n",
              "Start_Year                 0.000000\n",
              "Accomodation_To_Pay        0.000000\n",
              "Accomodation_duration      0.000000\n",
              "Expense_To_Pay             0.000000\n",
              "Expense_duration           0.000000\n",
              "dtype: float64"
            ]
          },
          "metadata": {},
          "execution_count": 232
        }
      ],
      "source": [
        "df.isna().sum() / len(df) * 100"
      ]
    },
    {
      "cell_type": "code",
      "source": [
        "df[\"Tuition Covered\"] = df[\"Tuition Covered\"].fillna(df[\"Tuition Covered\"].mode()[0])\n",
        "df[\"Original Tuition fee\"] = df[\"Original Tuition fee\"].fillna(df[\"Original Tuition fee\"].mode()[0])"
      ],
      "metadata": {
        "id": "Y_Yi1rSWa6_F"
      },
      "execution_count": 233,
      "outputs": []
    },
    {
      "cell_type": "code",
      "source": [
        "df.isna().sum()"
      ],
      "metadata": {
        "colab": {
          "base_uri": "https://localhost:8080/"
        },
        "id": "876SLKKebPGM",
        "outputId": "700f0fe2-4fba-42c3-b0ea-0b24ce456dc5"
      },
      "execution_count": 234,
      "outputs": [
        {
          "output_type": "execute_result",
          "data": {
            "text/plain": [
              "schol_id                   0\n",
              "University                 0\n",
              "Major                      0\n",
              "Level                      0\n",
              "Language                   0\n",
              "Tuition Covered            0\n",
              "Accomodation covered?      0\n",
              "Living Expense Covered?    0\n",
              "Tuition fees to pay        0\n",
              "Original Tuition fee       0\n",
              "Start_Month                0\n",
              "Start_Year                 0\n",
              "Accomodation_To_Pay        0\n",
              "Accomodation_duration      0\n",
              "Expense_To_Pay             0\n",
              "Expense_duration           0\n",
              "dtype: int64"
            ]
          },
          "metadata": {},
          "execution_count": 234
        }
      ]
    },
    {
      "cell_type": "code",
      "source": [
        "df.isna().sum() / len(df) * 100"
      ],
      "metadata": {
        "colab": {
          "base_uri": "https://localhost:8080/"
        },
        "id": "3AU-fjV3baVB",
        "outputId": "f1abc59b-f1fb-4daf-bee6-6ddeb3bf5c54"
      },
      "execution_count": 235,
      "outputs": [
        {
          "output_type": "execute_result",
          "data": {
            "text/plain": [
              "schol_id                   0.0\n",
              "University                 0.0\n",
              "Major                      0.0\n",
              "Level                      0.0\n",
              "Language                   0.0\n",
              "Tuition Covered            0.0\n",
              "Accomodation covered?      0.0\n",
              "Living Expense Covered?    0.0\n",
              "Tuition fees to pay        0.0\n",
              "Original Tuition fee       0.0\n",
              "Start_Month                0.0\n",
              "Start_Year                 0.0\n",
              "Accomodation_To_Pay        0.0\n",
              "Accomodation_duration      0.0\n",
              "Expense_To_Pay             0.0\n",
              "Expense_duration           0.0\n",
              "dtype: float64"
            ]
          },
          "metadata": {},
          "execution_count": 235
        }
      ]
    },
    {
      "cell_type": "markdown",
      "source": [
        "### Construct Data"
      ],
      "metadata": {
        "id": "OP1GVB7u9Sys"
      }
    },
    {
      "cell_type": "code",
      "source": [
        "import pandas as pd"
      ],
      "metadata": {
        "id": "KGUb34Jq-AKx"
      },
      "execution_count": 236,
      "outputs": []
    },
    {
      "cell_type": "code",
      "source": [
        "# Dataset\n",
        "df = pd.read_csv(\"cleaned.csv\")"
      ],
      "metadata": {
        "id": "n-hlOUW7-ACv"
      },
      "execution_count": 237,
      "outputs": []
    },
    {
      "cell_type": "code",
      "source": [
        "# Create a new feature that calculates the difference between the maximum and minimum values of each banknote\n",
        "df[\"Tuition Sum\"] = df[\"Tuition Covered\"] + df[\"Original Tuition fee\"] + df[\"Tuition fees to pay\"] + df[\"Accomodation_To_Pay\"] + df[\"Expense_To_Pay\"]\n",
        "\n",
        "# Display the first few rows of the modified dataset\n",
        "print(df.head())"
      ],
      "metadata": {
        "colab": {
          "base_uri": "https://localhost:8080/"
        },
        "id": "myveEKvf9H94",
        "outputId": "6976d961-ad9d-4065-f088-eee62039a388"
      },
      "execution_count": 238,
      "outputs": [
        {
          "output_type": "stream",
          "name": "stdout",
          "text": [
            "   schol_id                                         University  \\\n",
            "0         1  Shanghai University of Traditional Chinese Med...   \n",
            "1         2     Changchun University of Science and Technology   \n",
            "2         3     Changchun University of Science and Technology   \n",
            "3         4     Changchun University of Science and Technology   \n",
            "4         5                                 Qingdao University   \n",
            "\n",
            "                                               Major       Level Language  \\\n",
            "0                                Summer School (TCM)  Non-Degree  English   \n",
            "1  Preparatory Program of Humanities Direction(Pa...  Non-Degree  Chinese   \n",
            "2  Preparatory Program of Business Direction(Path A)  Non-Degree  Chinese   \n",
            "3  Preparatory Program of Science and Engineering...  Non-Degree  Chinese   \n",
            "4                 Long-term Chinese Language Program  Non-Degree  Chinese   \n",
            "\n",
            "   Tuition Covered  Accomodation covered?  Living Expense Covered?  \\\n",
            "0           7500.0                      0                        0   \n",
            "1          10000.0                      0                        0   \n",
            "2          10000.0                      0                        0   \n",
            "3          10000.0                      0                        0   \n",
            "4           7000.0                      1                        1   \n",
            "\n",
            "   Tuition fees to pay  Original Tuition fee Start_Month  Start_Year  \\\n",
            "0                    0                7500.0         Jun        2020   \n",
            "1                10000               20000.0         Sep        2019   \n",
            "2                10000               20000.0         Sep        2019   \n",
            "3                10000               20000.0         Sep        2019   \n",
            "4                    0                7000.0         Sep        2019   \n",
            "\n",
            "   Accomodation_To_Pay Accomodation_duration  Expense_To_Pay Expense_duration  \\\n",
            "0               9750.0                 MONTH          1000.0            MONTH   \n",
            "1               1500.0                 MONTH          1500.0            MONTH   \n",
            "2               1500.0                 MONTH          1500.0            MONTH   \n",
            "3               1500.0                 MONTH          1500.0            MONTH   \n",
            "4                  0.0                  YEAR             0.0            MONTH   \n",
            "\n",
            "   Tuition Sum  \n",
            "0      25750.0  \n",
            "1      43000.0  \n",
            "2      43000.0  \n",
            "3      43000.0  \n",
            "4      14000.0  \n"
          ]
        }
      ]
    },
    {
      "cell_type": "markdown",
      "source": [
        "### Integrate Data"
      ],
      "metadata": {
        "id": "R190B-GJf-EQ"
      }
    },
    {
      "cell_type": "code",
      "source": [
        "import pandas as pd"
      ],
      "metadata": {
        "id": "R0-EvUhlRU-V"
      },
      "execution_count": 256,
      "outputs": []
    },
    {
      "cell_type": "code",
      "source": [
        "# Dataset\n",
        "df = pd.read_csv(\"cleaned.csv\")"
      ],
      "metadata": {
        "id": "hUP_BlvIeYob"
      },
      "execution_count": 257,
      "outputs": []
    },
    {
      "cell_type": "code",
      "source": [
        "# Melakukan integrasi data dengan menambahkan kolom baru\n",
        "df['Tuition Sum'] = df[\"Tuition Covered\"] + df[\"Original Tuition fee\"] + df[\"Tuition fees to pay\"] + df[\"Accomodation_To_Pay\"] + df[\"Expense_To_Pay\"]\n",
        "\n",
        "# Melakukan perubahan pada nilai data tertentu\n",
        "df.loc[df['Tuition Covered'] == 'Original Tuition fee', 'Tuition Covered'] = 'nilai_baru'\n",
        "\n",
        "# Melakukan penghapusan kolom yang tidak diperlukan\n",
        "df = df.drop(['Accomodation covered?', 'Living Expense Covered?'], axis=1)\n",
        "\n",
        "# Menyimpan dataset yang telah diubah\n",
        "df.to_csv('integrity data.csv', index=False)\n",
        "\n",
        "print(\"berhasil membuat dataset baru dan menambahkan 1 kolom baru yaitu Tuition Sum\")"
      ],
      "metadata": {
        "colab": {
          "base_uri": "https://localhost:8080/"
        },
        "id": "edYVZNvc_ozd",
        "outputId": "ccb24980-ab08-4272-f349-afe2bafe80aa"
      },
      "execution_count": 258,
      "outputs": [
        {
          "output_type": "stream",
          "name": "stdout",
          "text": [
            "berhasil membuat dataset baru dan menambahkan 1 kolom baru yaitu Tuition Sum\n"
          ]
        }
      ]
    },
    {
      "cell_type": "code",
      "source": [
        "df"
      ],
      "metadata": {
        "colab": {
          "base_uri": "https://localhost:8080/",
          "height": 1000
        },
        "id": "kk62JV73SFZv",
        "outputId": "e3f8819b-75a4-4c30-d6c6-2164772b5849"
      },
      "execution_count": 259,
      "outputs": [
        {
          "output_type": "execute_result",
          "data": {
            "text/plain": [
              "      schol_id                                         University  \\\n",
              "0            1  Shanghai University of Traditional Chinese Med...   \n",
              "1            2     Changchun University of Science and Technology   \n",
              "2            3     Changchun University of Science and Technology   \n",
              "3            4     Changchun University of Science and Technology   \n",
              "4            5                                 Qingdao University   \n",
              "...        ...                                                ...   \n",
              "3571      3601    East China University of Science and Technology   \n",
              "3572      3602    East China University of Science and Technology   \n",
              "3573      3603    East China University of Science and Technology   \n",
              "3574      3604    East China University of Science and Technology   \n",
              "3575      3605    East China University of Science and Technology   \n",
              "\n",
              "                                                  Major       Level Language  \\\n",
              "0                                   Summer School (TCM)  Non-Degree  English   \n",
              "1     Preparatory Program of Humanities Direction(Pa...  Non-Degree  Chinese   \n",
              "2     Preparatory Program of Business Direction(Path A)  Non-Degree  Chinese   \n",
              "3     Preparatory Program of Science and Engineering...  Non-Degree  Chinese   \n",
              "4                    Long-term Chinese Language Program  Non-Degree  Chinese   \n",
              "...                                                 ...         ...      ...   \n",
              "3571              Environmental Science and Engineering         Phd  English   \n",
              "3572    Power Engineering and Engineering Thermophysics         Phd  English   \n",
              "3573                                Thermal Engineering         Phd  English   \n",
              "3574           Synthesis of Fine Chemical and Molecular         Phd  English   \n",
              "3575                                   Sociology of Law         Phd  English   \n",
              "\n",
              "     Tuition Covered  Tuition fees to pay  Original Tuition fee Start_Month  \\\n",
              "0             7500.0                    0                7500.0         Jun   \n",
              "1            10000.0                10000               20000.0         Sep   \n",
              "2            10000.0                10000               20000.0         Sep   \n",
              "3            10000.0                10000               20000.0         Sep   \n",
              "4             7000.0                    0                7000.0         Sep   \n",
              "...              ...                  ...                   ...         ...   \n",
              "3571         38950.0                    0               38950.0         Sep   \n",
              "3572         38950.0                    0               38950.0         Sep   \n",
              "3573         38950.0                    0               38950.0         Sep   \n",
              "3574         38950.0                    0               38950.0         Sep   \n",
              "3575         38950.0                    0               38950.0         Sep   \n",
              "\n",
              "      Start_Year  Accomodation_To_Pay Accomodation_duration  Expense_To_Pay  \\\n",
              "0           2020               9750.0                 MONTH          1000.0   \n",
              "1           2019               1500.0                 MONTH          1500.0   \n",
              "2           2019               1500.0                 MONTH          1500.0   \n",
              "3           2019               1500.0                 MONTH          1500.0   \n",
              "4           2019                  0.0                  YEAR             0.0   \n",
              "...          ...                  ...                   ...             ...   \n",
              "3571        2019                  0.0                  YEAR             0.0   \n",
              "3572        2019                  0.0                  YEAR             0.0   \n",
              "3573        2019                  0.0                  YEAR             0.0   \n",
              "3574        2019                  0.0                  YEAR             0.0   \n",
              "3575        2019                  0.0                  YEAR             0.0   \n",
              "\n",
              "     Expense_duration  Tuition Sum  \n",
              "0               MONTH      25750.0  \n",
              "1               MONTH      43000.0  \n",
              "2               MONTH      43000.0  \n",
              "3               MONTH      43000.0  \n",
              "4               MONTH      14000.0  \n",
              "...               ...          ...  \n",
              "3571            MONTH      77900.0  \n",
              "3572            MONTH      77900.0  \n",
              "3573            MONTH      77900.0  \n",
              "3574            MONTH      77900.0  \n",
              "3575            MONTH      77900.0  \n",
              "\n",
              "[3576 rows x 15 columns]"
            ],
            "text/html": [
              "\n",
              "  <div id=\"df-6c31117a-c4d3-4f88-9250-da7ef0b44406\">\n",
              "    <div class=\"colab-df-container\">\n",
              "      <div>\n",
              "<style scoped>\n",
              "    .dataframe tbody tr th:only-of-type {\n",
              "        vertical-align: middle;\n",
              "    }\n",
              "\n",
              "    .dataframe tbody tr th {\n",
              "        vertical-align: top;\n",
              "    }\n",
              "\n",
              "    .dataframe thead th {\n",
              "        text-align: right;\n",
              "    }\n",
              "</style>\n",
              "<table border=\"1\" class=\"dataframe\">\n",
              "  <thead>\n",
              "    <tr style=\"text-align: right;\">\n",
              "      <th></th>\n",
              "      <th>schol_id</th>\n",
              "      <th>University</th>\n",
              "      <th>Major</th>\n",
              "      <th>Level</th>\n",
              "      <th>Language</th>\n",
              "      <th>Tuition Covered</th>\n",
              "      <th>Tuition fees to pay</th>\n",
              "      <th>Original Tuition fee</th>\n",
              "      <th>Start_Month</th>\n",
              "      <th>Start_Year</th>\n",
              "      <th>Accomodation_To_Pay</th>\n",
              "      <th>Accomodation_duration</th>\n",
              "      <th>Expense_To_Pay</th>\n",
              "      <th>Expense_duration</th>\n",
              "      <th>Tuition Sum</th>\n",
              "    </tr>\n",
              "  </thead>\n",
              "  <tbody>\n",
              "    <tr>\n",
              "      <th>0</th>\n",
              "      <td>1</td>\n",
              "      <td>Shanghai University of Traditional Chinese Med...</td>\n",
              "      <td>Summer School (TCM)</td>\n",
              "      <td>Non-Degree</td>\n",
              "      <td>English</td>\n",
              "      <td>7500.0</td>\n",
              "      <td>0</td>\n",
              "      <td>7500.0</td>\n",
              "      <td>Jun</td>\n",
              "      <td>2020</td>\n",
              "      <td>9750.0</td>\n",
              "      <td>MONTH</td>\n",
              "      <td>1000.0</td>\n",
              "      <td>MONTH</td>\n",
              "      <td>25750.0</td>\n",
              "    </tr>\n",
              "    <tr>\n",
              "      <th>1</th>\n",
              "      <td>2</td>\n",
              "      <td>Changchun University of Science and Technology</td>\n",
              "      <td>Preparatory Program of Humanities Direction(Pa...</td>\n",
              "      <td>Non-Degree</td>\n",
              "      <td>Chinese</td>\n",
              "      <td>10000.0</td>\n",
              "      <td>10000</td>\n",
              "      <td>20000.0</td>\n",
              "      <td>Sep</td>\n",
              "      <td>2019</td>\n",
              "      <td>1500.0</td>\n",
              "      <td>MONTH</td>\n",
              "      <td>1500.0</td>\n",
              "      <td>MONTH</td>\n",
              "      <td>43000.0</td>\n",
              "    </tr>\n",
              "    <tr>\n",
              "      <th>2</th>\n",
              "      <td>3</td>\n",
              "      <td>Changchun University of Science and Technology</td>\n",
              "      <td>Preparatory Program of Business Direction(Path A)</td>\n",
              "      <td>Non-Degree</td>\n",
              "      <td>Chinese</td>\n",
              "      <td>10000.0</td>\n",
              "      <td>10000</td>\n",
              "      <td>20000.0</td>\n",
              "      <td>Sep</td>\n",
              "      <td>2019</td>\n",
              "      <td>1500.0</td>\n",
              "      <td>MONTH</td>\n",
              "      <td>1500.0</td>\n",
              "      <td>MONTH</td>\n",
              "      <td>43000.0</td>\n",
              "    </tr>\n",
              "    <tr>\n",
              "      <th>3</th>\n",
              "      <td>4</td>\n",
              "      <td>Changchun University of Science and Technology</td>\n",
              "      <td>Preparatory Program of Science and Engineering...</td>\n",
              "      <td>Non-Degree</td>\n",
              "      <td>Chinese</td>\n",
              "      <td>10000.0</td>\n",
              "      <td>10000</td>\n",
              "      <td>20000.0</td>\n",
              "      <td>Sep</td>\n",
              "      <td>2019</td>\n",
              "      <td>1500.0</td>\n",
              "      <td>MONTH</td>\n",
              "      <td>1500.0</td>\n",
              "      <td>MONTH</td>\n",
              "      <td>43000.0</td>\n",
              "    </tr>\n",
              "    <tr>\n",
              "      <th>4</th>\n",
              "      <td>5</td>\n",
              "      <td>Qingdao University</td>\n",
              "      <td>Long-term Chinese Language Program</td>\n",
              "      <td>Non-Degree</td>\n",
              "      <td>Chinese</td>\n",
              "      <td>7000.0</td>\n",
              "      <td>0</td>\n",
              "      <td>7000.0</td>\n",
              "      <td>Sep</td>\n",
              "      <td>2019</td>\n",
              "      <td>0.0</td>\n",
              "      <td>YEAR</td>\n",
              "      <td>0.0</td>\n",
              "      <td>MONTH</td>\n",
              "      <td>14000.0</td>\n",
              "    </tr>\n",
              "    <tr>\n",
              "      <th>...</th>\n",
              "      <td>...</td>\n",
              "      <td>...</td>\n",
              "      <td>...</td>\n",
              "      <td>...</td>\n",
              "      <td>...</td>\n",
              "      <td>...</td>\n",
              "      <td>...</td>\n",
              "      <td>...</td>\n",
              "      <td>...</td>\n",
              "      <td>...</td>\n",
              "      <td>...</td>\n",
              "      <td>...</td>\n",
              "      <td>...</td>\n",
              "      <td>...</td>\n",
              "      <td>...</td>\n",
              "    </tr>\n",
              "    <tr>\n",
              "      <th>3571</th>\n",
              "      <td>3601</td>\n",
              "      <td>East China University of Science and Technology</td>\n",
              "      <td>Environmental Science and Engineering</td>\n",
              "      <td>Phd</td>\n",
              "      <td>English</td>\n",
              "      <td>38950.0</td>\n",
              "      <td>0</td>\n",
              "      <td>38950.0</td>\n",
              "      <td>Sep</td>\n",
              "      <td>2019</td>\n",
              "      <td>0.0</td>\n",
              "      <td>YEAR</td>\n",
              "      <td>0.0</td>\n",
              "      <td>MONTH</td>\n",
              "      <td>77900.0</td>\n",
              "    </tr>\n",
              "    <tr>\n",
              "      <th>3572</th>\n",
              "      <td>3602</td>\n",
              "      <td>East China University of Science and Technology</td>\n",
              "      <td>Power Engineering and Engineering Thermophysics</td>\n",
              "      <td>Phd</td>\n",
              "      <td>English</td>\n",
              "      <td>38950.0</td>\n",
              "      <td>0</td>\n",
              "      <td>38950.0</td>\n",
              "      <td>Sep</td>\n",
              "      <td>2019</td>\n",
              "      <td>0.0</td>\n",
              "      <td>YEAR</td>\n",
              "      <td>0.0</td>\n",
              "      <td>MONTH</td>\n",
              "      <td>77900.0</td>\n",
              "    </tr>\n",
              "    <tr>\n",
              "      <th>3573</th>\n",
              "      <td>3603</td>\n",
              "      <td>East China University of Science and Technology</td>\n",
              "      <td>Thermal Engineering</td>\n",
              "      <td>Phd</td>\n",
              "      <td>English</td>\n",
              "      <td>38950.0</td>\n",
              "      <td>0</td>\n",
              "      <td>38950.0</td>\n",
              "      <td>Sep</td>\n",
              "      <td>2019</td>\n",
              "      <td>0.0</td>\n",
              "      <td>YEAR</td>\n",
              "      <td>0.0</td>\n",
              "      <td>MONTH</td>\n",
              "      <td>77900.0</td>\n",
              "    </tr>\n",
              "    <tr>\n",
              "      <th>3574</th>\n",
              "      <td>3604</td>\n",
              "      <td>East China University of Science and Technology</td>\n",
              "      <td>Synthesis of Fine Chemical and Molecular</td>\n",
              "      <td>Phd</td>\n",
              "      <td>English</td>\n",
              "      <td>38950.0</td>\n",
              "      <td>0</td>\n",
              "      <td>38950.0</td>\n",
              "      <td>Sep</td>\n",
              "      <td>2019</td>\n",
              "      <td>0.0</td>\n",
              "      <td>YEAR</td>\n",
              "      <td>0.0</td>\n",
              "      <td>MONTH</td>\n",
              "      <td>77900.0</td>\n",
              "    </tr>\n",
              "    <tr>\n",
              "      <th>3575</th>\n",
              "      <td>3605</td>\n",
              "      <td>East China University of Science and Technology</td>\n",
              "      <td>Sociology of Law</td>\n",
              "      <td>Phd</td>\n",
              "      <td>English</td>\n",
              "      <td>38950.0</td>\n",
              "      <td>0</td>\n",
              "      <td>38950.0</td>\n",
              "      <td>Sep</td>\n",
              "      <td>2019</td>\n",
              "      <td>0.0</td>\n",
              "      <td>YEAR</td>\n",
              "      <td>0.0</td>\n",
              "      <td>MONTH</td>\n",
              "      <td>77900.0</td>\n",
              "    </tr>\n",
              "  </tbody>\n",
              "</table>\n",
              "<p>3576 rows × 15 columns</p>\n",
              "</div>\n",
              "      <button class=\"colab-df-convert\" onclick=\"convertToInteractive('df-6c31117a-c4d3-4f88-9250-da7ef0b44406')\"\n",
              "              title=\"Convert this dataframe to an interactive table.\"\n",
              "              style=\"display:none;\">\n",
              "        \n",
              "  <svg xmlns=\"http://www.w3.org/2000/svg\" height=\"24px\"viewBox=\"0 0 24 24\"\n",
              "       width=\"24px\">\n",
              "    <path d=\"M0 0h24v24H0V0z\" fill=\"none\"/>\n",
              "    <path d=\"M18.56 5.44l.94 2.06.94-2.06 2.06-.94-2.06-.94-.94-2.06-.94 2.06-2.06.94zm-11 1L8.5 8.5l.94-2.06 2.06-.94-2.06-.94L8.5 2.5l-.94 2.06-2.06.94zm10 10l.94 2.06.94-2.06 2.06-.94-2.06-.94-.94-2.06-.94 2.06-2.06.94z\"/><path d=\"M17.41 7.96l-1.37-1.37c-.4-.4-.92-.59-1.43-.59-.52 0-1.04.2-1.43.59L10.3 9.45l-7.72 7.72c-.78.78-.78 2.05 0 2.83L4 21.41c.39.39.9.59 1.41.59.51 0 1.02-.2 1.41-.59l7.78-7.78 2.81-2.81c.8-.78.8-2.07 0-2.86zM5.41 20L4 18.59l7.72-7.72 1.47 1.35L5.41 20z\"/>\n",
              "  </svg>\n",
              "      </button>\n",
              "      \n",
              "  <style>\n",
              "    .colab-df-container {\n",
              "      display:flex;\n",
              "      flex-wrap:wrap;\n",
              "      gap: 12px;\n",
              "    }\n",
              "\n",
              "    .colab-df-convert {\n",
              "      background-color: #E8F0FE;\n",
              "      border: none;\n",
              "      border-radius: 50%;\n",
              "      cursor: pointer;\n",
              "      display: none;\n",
              "      fill: #1967D2;\n",
              "      height: 32px;\n",
              "      padding: 0 0 0 0;\n",
              "      width: 32px;\n",
              "    }\n",
              "\n",
              "    .colab-df-convert:hover {\n",
              "      background-color: #E2EBFA;\n",
              "      box-shadow: 0px 1px 2px rgba(60, 64, 67, 0.3), 0px 1px 3px 1px rgba(60, 64, 67, 0.15);\n",
              "      fill: #174EA6;\n",
              "    }\n",
              "\n",
              "    [theme=dark] .colab-df-convert {\n",
              "      background-color: #3B4455;\n",
              "      fill: #D2E3FC;\n",
              "    }\n",
              "\n",
              "    [theme=dark] .colab-df-convert:hover {\n",
              "      background-color: #434B5C;\n",
              "      box-shadow: 0px 1px 3px 1px rgba(0, 0, 0, 0.15);\n",
              "      filter: drop-shadow(0px 1px 2px rgba(0, 0, 0, 0.3));\n",
              "      fill: #FFFFFF;\n",
              "    }\n",
              "  </style>\n",
              "\n",
              "      <script>\n",
              "        const buttonEl =\n",
              "          document.querySelector('#df-6c31117a-c4d3-4f88-9250-da7ef0b44406 button.colab-df-convert');\n",
              "        buttonEl.style.display =\n",
              "          google.colab.kernel.accessAllowed ? 'block' : 'none';\n",
              "\n",
              "        async function convertToInteractive(key) {\n",
              "          const element = document.querySelector('#df-6c31117a-c4d3-4f88-9250-da7ef0b44406');\n",
              "          const dataTable =\n",
              "            await google.colab.kernel.invokeFunction('convertToInteractive',\n",
              "                                                     [key], {});\n",
              "          if (!dataTable) return;\n",
              "\n",
              "          const docLinkHtml = 'Like what you see? Visit the ' +\n",
              "            '<a target=\"_blank\" href=https://colab.research.google.com/notebooks/data_table.ipynb>data table notebook</a>'\n",
              "            + ' to learn more about interactive tables.';\n",
              "          element.innerHTML = '';\n",
              "          dataTable['output_type'] = 'display_data';\n",
              "          await google.colab.output.renderOutput(dataTable, element);\n",
              "          const docLink = document.createElement('div');\n",
              "          docLink.innerHTML = docLinkHtml;\n",
              "          element.appendChild(docLink);\n",
              "        }\n",
              "      </script>\n",
              "    </div>\n",
              "  </div>\n",
              "  "
            ]
          },
          "metadata": {},
          "execution_count": 259
        }
      ]
    },
    {
      "cell_type": "code",
      "source": [
        "df.info()"
      ],
      "metadata": {
        "colab": {
          "base_uri": "https://localhost:8080/"
        },
        "id": "FuMQwZu4RiNr",
        "outputId": "2b596f95-7236-4fc1-c00a-40da97843a77"
      },
      "execution_count": 260,
      "outputs": [
        {
          "output_type": "stream",
          "name": "stdout",
          "text": [
            "<class 'pandas.core.frame.DataFrame'>\n",
            "RangeIndex: 3576 entries, 0 to 3575\n",
            "Data columns (total 15 columns):\n",
            " #   Column                 Non-Null Count  Dtype  \n",
            "---  ------                 --------------  -----  \n",
            " 0   schol_id               3576 non-null   int64  \n",
            " 1   University             3576 non-null   object \n",
            " 2   Major                  3576 non-null   object \n",
            " 3   Level                  3576 non-null   object \n",
            " 4   Language               3576 non-null   object \n",
            " 5   Tuition Covered        3453 non-null   object \n",
            " 6   Tuition fees to pay    3576 non-null   int64  \n",
            " 7   Original Tuition fee   3453 non-null   float64\n",
            " 8   Start_Month            3576 non-null   object \n",
            " 9   Start_Year             3576 non-null   int64  \n",
            " 10  Accomodation_To_Pay    3576 non-null   float64\n",
            " 11  Accomodation_duration  3576 non-null   object \n",
            " 12  Expense_To_Pay         3576 non-null   float64\n",
            " 13  Expense_duration       3576 non-null   object \n",
            " 14  Tuition Sum            3453 non-null   float64\n",
            "dtypes: float64(4), int64(3), object(8)\n",
            "memory usage: 419.2+ KB\n"
          ]
        }
      ]
    },
    {
      "cell_type": "markdown",
      "source": [
        "### Format Data"
      ],
      "metadata": {
        "id": "Cba5vOauU5M1"
      }
    },
    {
      "cell_type": "code",
      "source": [
        "import pandas as pd"
      ],
      "metadata": {
        "id": "aRYGHZmaW__V"
      },
      "execution_count": 249,
      "outputs": []
    },
    {
      "cell_type": "code",
      "source": [
        "# Dataset\n",
        "df = pd.read_csv(\"cleaned.csv\")"
      ],
      "metadata": {
        "id": "EKofk5IihGZA"
      },
      "execution_count": 250,
      "outputs": []
    },
    {
      "cell_type": "code",
      "source": [
        "df.info()"
      ],
      "metadata": {
        "colab": {
          "base_uri": "https://localhost:8080/"
        },
        "id": "KL2M9axmXImU",
        "outputId": "94359a53-1b3b-4957-a022-ecdd8db39632"
      },
      "execution_count": 251,
      "outputs": [
        {
          "output_type": "stream",
          "name": "stdout",
          "text": [
            "<class 'pandas.core.frame.DataFrame'>\n",
            "RangeIndex: 3576 entries, 0 to 3575\n",
            "Data columns (total 16 columns):\n",
            " #   Column                   Non-Null Count  Dtype  \n",
            "---  ------                   --------------  -----  \n",
            " 0   schol_id                 3576 non-null   int64  \n",
            " 1   University               3576 non-null   object \n",
            " 2   Major                    3576 non-null   object \n",
            " 3   Level                    3576 non-null   object \n",
            " 4   Language                 3576 non-null   object \n",
            " 5   Tuition Covered          3453 non-null   float64\n",
            " 6   Accomodation covered?    3576 non-null   int64  \n",
            " 7   Living Expense Covered?  3576 non-null   int64  \n",
            " 8   Tuition fees to pay      3576 non-null   int64  \n",
            " 9   Original Tuition fee     3453 non-null   float64\n",
            " 10  Start_Month              3576 non-null   object \n",
            " 11  Start_Year               3576 non-null   int64  \n",
            " 12  Accomodation_To_Pay      3576 non-null   float64\n",
            " 13  Accomodation_duration    3576 non-null   object \n",
            " 14  Expense_To_Pay           3576 non-null   float64\n",
            " 15  Expense_duration         3576 non-null   object \n",
            "dtypes: float64(4), int64(5), object(7)\n",
            "memory usage: 447.1+ KB\n"
          ]
        }
      ]
    },
    {
      "cell_type": "code",
      "source": [
        "# Menghapus kolom yang tidak diperlukan\n",
        "df = df.drop(['Expense_To_Pay', 'Expense_duration'], axis=1)\n",
        "\n",
        "# Mengganti nilai null dengan nilai rata-rata\n",
        "mean_value = df['Tuition fees to pay'].mean()\n",
        "df['Tuition fees to pay'] = df['Tuition Covered'].fillna(mean_value)\n",
        "\n",
        "mean_value = df['Accomodation covered?'].mean()\n",
        "df['Accomodation covered?'] = df['Tuition Covered'].fillna(mean_value)\n",
        "\n",
        "mean_value = df['Living Expense Covered?'].mean()\n",
        "df['Living Expense Covered?'] = df['Tuition Covered'].fillna(mean_value)\n",
        "\n",
        "# Mengubah tipe data kolom4 dari float ke object\n",
        "df['Tuition Covered'] = df['Tuition Covered'].astype(object)\n",
        "\n",
        "# Menghapus baris yang duplikat\n",
        "df = df.drop_duplicates()\n",
        "\n",
        "# Mengurutkan data berdasarkan kolom5\n",
        "df = df.sort_values('Level')\n",
        "\n",
        "# Menyimpan hasil pengolahan data ke file csv\n",
        "df.to_csv('data_cleaned.csv', index=False)"
      ],
      "metadata": {
        "id": "BGfvw4ugBkqS"
      },
      "execution_count": 252,
      "outputs": []
    },
    {
      "cell_type": "code",
      "source": [
        "df"
      ],
      "metadata": {
        "colab": {
          "base_uri": "https://localhost:8080/",
          "height": 973
        },
        "id": "4x6JgnyqWdR4",
        "outputId": "50ccdf5f-0e31-4665-c289-8cb67b02daf5"
      },
      "execution_count": 253,
      "outputs": [
        {
          "output_type": "execute_result",
          "data": {
            "text/plain": [
              "      schol_id                                         University  \\\n",
              "1410      1440  Beijing Foreign Studies University-Internation...   \n",
              "953        983                    China Pharmaceutical University   \n",
              "952        982                    China Pharmaceutical University   \n",
              "951        981                     Northeast Petroleum University   \n",
              "950        980                                   Jinan University   \n",
              "...        ...                                                ...   \n",
              "3115      3145              North China Electric Power University   \n",
              "3116      3146              North China Electric Power University   \n",
              "3117      3147              North China Electric Power University   \n",
              "3109      3139              North China Electric Power University   \n",
              "3575      3605    East China University of Science and Technology   \n",
              "\n",
              "                                                Major     Level Language  \\\n",
              "1410         Chinese Business Studies(Beijing Campus)  Bachelor  English   \n",
              "953                                 Clinical Pharmacy  Bachelor  English   \n",
              "952                   Resource and Development of TCM  Bachelor  Chinese   \n",
              "951                                 Industrial Design  Bachelor  Chinese   \n",
              "950           International Economics and Trade (IET)  Bachelor  English   \n",
              "...                                               ...       ...      ...   \n",
              "3115               Electric Power Economic Management       Phd  Chinese   \n",
              "3116  Multiphase flow detection theory and technology       Phd  Chinese   \n",
              "3117    Combustion Process Detection and Optimization       Phd  Chinese   \n",
              "3109         Nuclear reactor neutronics and sheilding       Phd  Chinese   \n",
              "3575                                 Sociology of Law       Phd  English   \n",
              "\n",
              "     Tuition Covered  Accomodation covered?  Living Expense Covered?  \\\n",
              "1410         37400.0                37400.0                  37400.0   \n",
              "953          20000.0                20000.0                  20000.0   \n",
              "952          20000.0                20000.0                  20000.0   \n",
              "951           7500.0                 7500.0                   7500.0   \n",
              "950          25000.0                25000.0                  25000.0   \n",
              "...              ...                    ...                      ...   \n",
              "3115         26250.0                26250.0                  26250.0   \n",
              "3116         26250.0                26250.0                  26250.0   \n",
              "3117         26250.0                26250.0                  26250.0   \n",
              "3109         26250.0                26250.0                  26250.0   \n",
              "3575         38950.0                38950.0                  38950.0   \n",
              "\n",
              "      Tuition fees to pay  Original Tuition fee Start_Month  Start_Year  \\\n",
              "1410              37400.0               47350.0         Sep        2019   \n",
              "953               20000.0               22500.0         Sep        2019   \n",
              "952               20000.0               22500.0         Sep        2019   \n",
              "951                7500.0               18000.0         Sep        2019   \n",
              "950               25000.0               30000.0         Sep        2019   \n",
              "...                   ...                   ...         ...         ...   \n",
              "3115              26250.0               35000.0         Sep        2019   \n",
              "3116              26250.0               35000.0         Sep        2019   \n",
              "3117              26250.0               35000.0         Sep        2019   \n",
              "3109              26250.0               35000.0         Sep        2019   \n",
              "3575              38950.0               38950.0         Sep        2019   \n",
              "\n",
              "      Accomodation_To_Pay Accomodation_duration  \n",
              "1410               1200.0                 MONTH  \n",
              "953                 900.0                 MONTH  \n",
              "952                 900.0                 MONTH  \n",
              "951                1000.0                 MONTH  \n",
              "950                6200.0              SEMESTER  \n",
              "...                   ...                   ...  \n",
              "3115               1200.0                 MONTH  \n",
              "3116               1200.0                 MONTH  \n",
              "3117               1200.0                 MONTH  \n",
              "3109               1200.0                 MONTH  \n",
              "3575                  0.0                  YEAR  \n",
              "\n",
              "[3576 rows x 14 columns]"
            ],
            "text/html": [
              "\n",
              "  <div id=\"df-5a26296a-28e3-4d6d-9080-65e8439113b5\">\n",
              "    <div class=\"colab-df-container\">\n",
              "      <div>\n",
              "<style scoped>\n",
              "    .dataframe tbody tr th:only-of-type {\n",
              "        vertical-align: middle;\n",
              "    }\n",
              "\n",
              "    .dataframe tbody tr th {\n",
              "        vertical-align: top;\n",
              "    }\n",
              "\n",
              "    .dataframe thead th {\n",
              "        text-align: right;\n",
              "    }\n",
              "</style>\n",
              "<table border=\"1\" class=\"dataframe\">\n",
              "  <thead>\n",
              "    <tr style=\"text-align: right;\">\n",
              "      <th></th>\n",
              "      <th>schol_id</th>\n",
              "      <th>University</th>\n",
              "      <th>Major</th>\n",
              "      <th>Level</th>\n",
              "      <th>Language</th>\n",
              "      <th>Tuition Covered</th>\n",
              "      <th>Accomodation covered?</th>\n",
              "      <th>Living Expense Covered?</th>\n",
              "      <th>Tuition fees to pay</th>\n",
              "      <th>Original Tuition fee</th>\n",
              "      <th>Start_Month</th>\n",
              "      <th>Start_Year</th>\n",
              "      <th>Accomodation_To_Pay</th>\n",
              "      <th>Accomodation_duration</th>\n",
              "    </tr>\n",
              "  </thead>\n",
              "  <tbody>\n",
              "    <tr>\n",
              "      <th>1410</th>\n",
              "      <td>1440</td>\n",
              "      <td>Beijing Foreign Studies University-Internation...</td>\n",
              "      <td>Chinese Business Studies(Beijing Campus)</td>\n",
              "      <td>Bachelor</td>\n",
              "      <td>English</td>\n",
              "      <td>37400.0</td>\n",
              "      <td>37400.0</td>\n",
              "      <td>37400.0</td>\n",
              "      <td>37400.0</td>\n",
              "      <td>47350.0</td>\n",
              "      <td>Sep</td>\n",
              "      <td>2019</td>\n",
              "      <td>1200.0</td>\n",
              "      <td>MONTH</td>\n",
              "    </tr>\n",
              "    <tr>\n",
              "      <th>953</th>\n",
              "      <td>983</td>\n",
              "      <td>China Pharmaceutical University</td>\n",
              "      <td>Clinical Pharmacy</td>\n",
              "      <td>Bachelor</td>\n",
              "      <td>English</td>\n",
              "      <td>20000.0</td>\n",
              "      <td>20000.0</td>\n",
              "      <td>20000.0</td>\n",
              "      <td>20000.0</td>\n",
              "      <td>22500.0</td>\n",
              "      <td>Sep</td>\n",
              "      <td>2019</td>\n",
              "      <td>900.0</td>\n",
              "      <td>MONTH</td>\n",
              "    </tr>\n",
              "    <tr>\n",
              "      <th>952</th>\n",
              "      <td>982</td>\n",
              "      <td>China Pharmaceutical University</td>\n",
              "      <td>Resource and Development of TCM</td>\n",
              "      <td>Bachelor</td>\n",
              "      <td>Chinese</td>\n",
              "      <td>20000.0</td>\n",
              "      <td>20000.0</td>\n",
              "      <td>20000.0</td>\n",
              "      <td>20000.0</td>\n",
              "      <td>22500.0</td>\n",
              "      <td>Sep</td>\n",
              "      <td>2019</td>\n",
              "      <td>900.0</td>\n",
              "      <td>MONTH</td>\n",
              "    </tr>\n",
              "    <tr>\n",
              "      <th>951</th>\n",
              "      <td>981</td>\n",
              "      <td>Northeast Petroleum University</td>\n",
              "      <td>Industrial Design</td>\n",
              "      <td>Bachelor</td>\n",
              "      <td>Chinese</td>\n",
              "      <td>7500.0</td>\n",
              "      <td>7500.0</td>\n",
              "      <td>7500.0</td>\n",
              "      <td>7500.0</td>\n",
              "      <td>18000.0</td>\n",
              "      <td>Sep</td>\n",
              "      <td>2019</td>\n",
              "      <td>1000.0</td>\n",
              "      <td>MONTH</td>\n",
              "    </tr>\n",
              "    <tr>\n",
              "      <th>950</th>\n",
              "      <td>980</td>\n",
              "      <td>Jinan University</td>\n",
              "      <td>International Economics and Trade (IET)</td>\n",
              "      <td>Bachelor</td>\n",
              "      <td>English</td>\n",
              "      <td>25000.0</td>\n",
              "      <td>25000.0</td>\n",
              "      <td>25000.0</td>\n",
              "      <td>25000.0</td>\n",
              "      <td>30000.0</td>\n",
              "      <td>Sep</td>\n",
              "      <td>2019</td>\n",
              "      <td>6200.0</td>\n",
              "      <td>SEMESTER</td>\n",
              "    </tr>\n",
              "    <tr>\n",
              "      <th>...</th>\n",
              "      <td>...</td>\n",
              "      <td>...</td>\n",
              "      <td>...</td>\n",
              "      <td>...</td>\n",
              "      <td>...</td>\n",
              "      <td>...</td>\n",
              "      <td>...</td>\n",
              "      <td>...</td>\n",
              "      <td>...</td>\n",
              "      <td>...</td>\n",
              "      <td>...</td>\n",
              "      <td>...</td>\n",
              "      <td>...</td>\n",
              "      <td>...</td>\n",
              "    </tr>\n",
              "    <tr>\n",
              "      <th>3115</th>\n",
              "      <td>3145</td>\n",
              "      <td>North China Electric Power University</td>\n",
              "      <td>Electric Power Economic Management</td>\n",
              "      <td>Phd</td>\n",
              "      <td>Chinese</td>\n",
              "      <td>26250.0</td>\n",
              "      <td>26250.0</td>\n",
              "      <td>26250.0</td>\n",
              "      <td>26250.0</td>\n",
              "      <td>35000.0</td>\n",
              "      <td>Sep</td>\n",
              "      <td>2019</td>\n",
              "      <td>1200.0</td>\n",
              "      <td>MONTH</td>\n",
              "    </tr>\n",
              "    <tr>\n",
              "      <th>3116</th>\n",
              "      <td>3146</td>\n",
              "      <td>North China Electric Power University</td>\n",
              "      <td>Multiphase flow detection theory and technology</td>\n",
              "      <td>Phd</td>\n",
              "      <td>Chinese</td>\n",
              "      <td>26250.0</td>\n",
              "      <td>26250.0</td>\n",
              "      <td>26250.0</td>\n",
              "      <td>26250.0</td>\n",
              "      <td>35000.0</td>\n",
              "      <td>Sep</td>\n",
              "      <td>2019</td>\n",
              "      <td>1200.0</td>\n",
              "      <td>MONTH</td>\n",
              "    </tr>\n",
              "    <tr>\n",
              "      <th>3117</th>\n",
              "      <td>3147</td>\n",
              "      <td>North China Electric Power University</td>\n",
              "      <td>Combustion Process Detection and Optimization</td>\n",
              "      <td>Phd</td>\n",
              "      <td>Chinese</td>\n",
              "      <td>26250.0</td>\n",
              "      <td>26250.0</td>\n",
              "      <td>26250.0</td>\n",
              "      <td>26250.0</td>\n",
              "      <td>35000.0</td>\n",
              "      <td>Sep</td>\n",
              "      <td>2019</td>\n",
              "      <td>1200.0</td>\n",
              "      <td>MONTH</td>\n",
              "    </tr>\n",
              "    <tr>\n",
              "      <th>3109</th>\n",
              "      <td>3139</td>\n",
              "      <td>North China Electric Power University</td>\n",
              "      <td>Nuclear reactor neutronics and sheilding</td>\n",
              "      <td>Phd</td>\n",
              "      <td>Chinese</td>\n",
              "      <td>26250.0</td>\n",
              "      <td>26250.0</td>\n",
              "      <td>26250.0</td>\n",
              "      <td>26250.0</td>\n",
              "      <td>35000.0</td>\n",
              "      <td>Sep</td>\n",
              "      <td>2019</td>\n",
              "      <td>1200.0</td>\n",
              "      <td>MONTH</td>\n",
              "    </tr>\n",
              "    <tr>\n",
              "      <th>3575</th>\n",
              "      <td>3605</td>\n",
              "      <td>East China University of Science and Technology</td>\n",
              "      <td>Sociology of Law</td>\n",
              "      <td>Phd</td>\n",
              "      <td>English</td>\n",
              "      <td>38950.0</td>\n",
              "      <td>38950.0</td>\n",
              "      <td>38950.0</td>\n",
              "      <td>38950.0</td>\n",
              "      <td>38950.0</td>\n",
              "      <td>Sep</td>\n",
              "      <td>2019</td>\n",
              "      <td>0.0</td>\n",
              "      <td>YEAR</td>\n",
              "    </tr>\n",
              "  </tbody>\n",
              "</table>\n",
              "<p>3576 rows × 14 columns</p>\n",
              "</div>\n",
              "      <button class=\"colab-df-convert\" onclick=\"convertToInteractive('df-5a26296a-28e3-4d6d-9080-65e8439113b5')\"\n",
              "              title=\"Convert this dataframe to an interactive table.\"\n",
              "              style=\"display:none;\">\n",
              "        \n",
              "  <svg xmlns=\"http://www.w3.org/2000/svg\" height=\"24px\"viewBox=\"0 0 24 24\"\n",
              "       width=\"24px\">\n",
              "    <path d=\"M0 0h24v24H0V0z\" fill=\"none\"/>\n",
              "    <path d=\"M18.56 5.44l.94 2.06.94-2.06 2.06-.94-2.06-.94-.94-2.06-.94 2.06-2.06.94zm-11 1L8.5 8.5l.94-2.06 2.06-.94-2.06-.94L8.5 2.5l-.94 2.06-2.06.94zm10 10l.94 2.06.94-2.06 2.06-.94-2.06-.94-.94-2.06-.94 2.06-2.06.94z\"/><path d=\"M17.41 7.96l-1.37-1.37c-.4-.4-.92-.59-1.43-.59-.52 0-1.04.2-1.43.59L10.3 9.45l-7.72 7.72c-.78.78-.78 2.05 0 2.83L4 21.41c.39.39.9.59 1.41.59.51 0 1.02-.2 1.41-.59l7.78-7.78 2.81-2.81c.8-.78.8-2.07 0-2.86zM5.41 20L4 18.59l7.72-7.72 1.47 1.35L5.41 20z\"/>\n",
              "  </svg>\n",
              "      </button>\n",
              "      \n",
              "  <style>\n",
              "    .colab-df-container {\n",
              "      display:flex;\n",
              "      flex-wrap:wrap;\n",
              "      gap: 12px;\n",
              "    }\n",
              "\n",
              "    .colab-df-convert {\n",
              "      background-color: #E8F0FE;\n",
              "      border: none;\n",
              "      border-radius: 50%;\n",
              "      cursor: pointer;\n",
              "      display: none;\n",
              "      fill: #1967D2;\n",
              "      height: 32px;\n",
              "      padding: 0 0 0 0;\n",
              "      width: 32px;\n",
              "    }\n",
              "\n",
              "    .colab-df-convert:hover {\n",
              "      background-color: #E2EBFA;\n",
              "      box-shadow: 0px 1px 2px rgba(60, 64, 67, 0.3), 0px 1px 3px 1px rgba(60, 64, 67, 0.15);\n",
              "      fill: #174EA6;\n",
              "    }\n",
              "\n",
              "    [theme=dark] .colab-df-convert {\n",
              "      background-color: #3B4455;\n",
              "      fill: #D2E3FC;\n",
              "    }\n",
              "\n",
              "    [theme=dark] .colab-df-convert:hover {\n",
              "      background-color: #434B5C;\n",
              "      box-shadow: 0px 1px 3px 1px rgba(0, 0, 0, 0.15);\n",
              "      filter: drop-shadow(0px 1px 2px rgba(0, 0, 0, 0.3));\n",
              "      fill: #FFFFFF;\n",
              "    }\n",
              "  </style>\n",
              "\n",
              "      <script>\n",
              "        const buttonEl =\n",
              "          document.querySelector('#df-5a26296a-28e3-4d6d-9080-65e8439113b5 button.colab-df-convert');\n",
              "        buttonEl.style.display =\n",
              "          google.colab.kernel.accessAllowed ? 'block' : 'none';\n",
              "\n",
              "        async function convertToInteractive(key) {\n",
              "          const element = document.querySelector('#df-5a26296a-28e3-4d6d-9080-65e8439113b5');\n",
              "          const dataTable =\n",
              "            await google.colab.kernel.invokeFunction('convertToInteractive',\n",
              "                                                     [key], {});\n",
              "          if (!dataTable) return;\n",
              "\n",
              "          const docLinkHtml = 'Like what you see? Visit the ' +\n",
              "            '<a target=\"_blank\" href=https://colab.research.google.com/notebooks/data_table.ipynb>data table notebook</a>'\n",
              "            + ' to learn more about interactive tables.';\n",
              "          element.innerHTML = '';\n",
              "          dataTable['output_type'] = 'display_data';\n",
              "          await google.colab.output.renderOutput(dataTable, element);\n",
              "          const docLink = document.createElement('div');\n",
              "          docLink.innerHTML = docLinkHtml;\n",
              "          element.appendChild(docLink);\n",
              "        }\n",
              "      </script>\n",
              "    </div>\n",
              "  </div>\n",
              "  "
            ]
          },
          "metadata": {},
          "execution_count": 253
        }
      ]
    },
    {
      "cell_type": "code",
      "source": [
        "df.info()"
      ],
      "metadata": {
        "colab": {
          "base_uri": "https://localhost:8080/"
        },
        "id": "5zZYa1OdWNXy",
        "outputId": "37541c6b-9f64-4ad2-a03e-6d1a1eb9a0fc"
      },
      "execution_count": 254,
      "outputs": [
        {
          "output_type": "stream",
          "name": "stdout",
          "text": [
            "<class 'pandas.core.frame.DataFrame'>\n",
            "Int64Index: 3576 entries, 1410 to 3575\n",
            "Data columns (total 14 columns):\n",
            " #   Column                   Non-Null Count  Dtype  \n",
            "---  ------                   --------------  -----  \n",
            " 0   schol_id                 3576 non-null   int64  \n",
            " 1   University               3576 non-null   object \n",
            " 2   Major                    3576 non-null   object \n",
            " 3   Level                    3576 non-null   object \n",
            " 4   Language                 3576 non-null   object \n",
            " 5   Tuition Covered          3453 non-null   object \n",
            " 6   Accomodation covered?    3576 non-null   float64\n",
            " 7   Living Expense Covered?  3576 non-null   float64\n",
            " 8   Tuition fees to pay      3576 non-null   float64\n",
            " 9   Original Tuition fee     3453 non-null   float64\n",
            " 10  Start_Month              3576 non-null   object \n",
            " 11  Start_Year               3576 non-null   int64  \n",
            " 12  Accomodation_To_Pay      3576 non-null   float64\n",
            " 13  Accomodation_duration    3576 non-null   object \n",
            "dtypes: float64(5), int64(2), object(7)\n",
            "memory usage: 419.1+ KB\n"
          ]
        }
      ]
    }
  ],
  "metadata": {
    "colab": {
      "provenance": [],
      "collapsed_sections": [
        "GRJa3Y8LD2r7",
        "r3iQzzeceEUH",
        "JYDcKotMMeyx",
        "8AjYKuh-MOb4",
        "KVXOKQ8rR5Ab",
        "42hn7zepSMGN",
        "K94LBSeoSzMU",
        "ZEdXcUCHWYdk"
      ],
      "include_colab_link": true
    },
    "kernelspec": {
      "display_name": "Python 3",
      "name": "python3"
    },
    "language_info": {
      "name": "python"
    }
  },
  "nbformat": 4,
  "nbformat_minor": 0
}